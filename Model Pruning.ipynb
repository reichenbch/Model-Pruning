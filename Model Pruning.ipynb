{
 "cells": [
  {
   "cell_type": "code",
   "execution_count": 1,
   "metadata": {},
   "outputs": [],
   "source": [
    "import tensorflow as tf\n",
    "tf.set_random_seed(123)\n",
    "import numpy as np\n",
    "np.random.seed(123)\n",
    "\n",
    "from tensorflow.examples.tutorials.mnist import input_data"
   ]
  },
  {
   "cell_type": "code",
   "execution_count": 2,
   "metadata": {},
   "outputs": [
    {
     "name": "stdout",
     "output_type": "stream",
     "text": [
      "WARNING:tensorflow:From <ipython-input-2-1a8e06482f86>:1: read_data_sets (from tensorflow.contrib.learn.python.learn.datasets.mnist) is deprecated and will be removed in a future version.\n",
      "Instructions for updating:\n",
      "Please use alternatives such as official/mnist/dataset.py from tensorflow/models.\n",
      "WARNING:tensorflow:From C:\\Users\\RISHAV\\Anaconda3\\lib\\site-packages\\tensorflow\\contrib\\learn\\python\\learn\\datasets\\mnist.py:260: maybe_download (from tensorflow.contrib.learn.python.learn.datasets.base) is deprecated and will be removed in a future version.\n",
      "Instructions for updating:\n",
      "Please write your own downloading logic.\n",
      "WARNING:tensorflow:From C:\\Users\\RISHAV\\Anaconda3\\lib\\site-packages\\tensorflow\\contrib\\learn\\python\\learn\\datasets\\base.py:252: _internal_retry.<locals>.wrap.<locals>.wrapped_fn (from tensorflow.contrib.learn.python.learn.datasets.base) is deprecated and will be removed in a future version.\n",
      "Instructions for updating:\n",
      "Please use urllib or similar directly.\n",
      "Successfully downloaded train-images-idx3-ubyte.gz 9912422 bytes.\n",
      "WARNING:tensorflow:From C:\\Users\\RISHAV\\Anaconda3\\lib\\site-packages\\tensorflow\\contrib\\learn\\python\\learn\\datasets\\mnist.py:262: extract_images (from tensorflow.contrib.learn.python.learn.datasets.mnist) is deprecated and will be removed in a future version.\n",
      "Instructions for updating:\n",
      "Please use tf.data to implement this functionality.\n",
      "Extracting MNIST_data/train-images-idx3-ubyte.gz\n",
      "Successfully downloaded train-labels-idx1-ubyte.gz 28881 bytes.\n",
      "WARNING:tensorflow:From C:\\Users\\RISHAV\\Anaconda3\\lib\\site-packages\\tensorflow\\contrib\\learn\\python\\learn\\datasets\\mnist.py:267: extract_labels (from tensorflow.contrib.learn.python.learn.datasets.mnist) is deprecated and will be removed in a future version.\n",
      "Instructions for updating:\n",
      "Please use tf.data to implement this functionality.\n",
      "Extracting MNIST_data/train-labels-idx1-ubyte.gz\n",
      "Successfully downloaded t10k-images-idx3-ubyte.gz 1648877 bytes.\n",
      "Extracting MNIST_data/t10k-images-idx3-ubyte.gz\n",
      "Successfully downloaded t10k-labels-idx1-ubyte.gz 4542 bytes.\n",
      "Extracting MNIST_data/t10k-labels-idx1-ubyte.gz\n",
      "WARNING:tensorflow:From C:\\Users\\RISHAV\\Anaconda3\\lib\\site-packages\\tensorflow\\contrib\\learn\\python\\learn\\datasets\\mnist.py:290: DataSet.__init__ (from tensorflow.contrib.learn.python.learn.datasets.mnist) is deprecated and will be removed in a future version.\n",
      "Instructions for updating:\n",
      "Please use alternatives such as official/mnist/dataset.py from tensorflow/models.\n"
     ]
    }
   ],
   "source": [
    "mnist = input_data.read_data_sets(\"MNIST_data/\")\n",
    "\n",
    "train_data_provider = mnist.train\n",
    "validation_data_provider = mnist.validation\n",
    "test_data_provider = mnist.test"
   ]
  },
  {
   "cell_type": "code",
   "execution_count": 4,
   "metadata": {},
   "outputs": [],
   "source": [
    "import os\n",
    "class BaseNetwork:\n",
    "\n",
    "    @property\n",
    "    def sess(self):\n",
    "        if not hasattr(self, '_sess'):\n",
    "            config = tf.ConfigProto()\n",
    "            # to save GPU resources\n",
    "            config.gpu_options.allow_growth = True\n",
    "            self._sess = tf.Session(config=config, graph=self.graph)\n",
    "        return self._sess\n",
    "\n",
    "    def init_variables(self, var_list):\n",
    "\n",
    "        self.sess.run(tf.variables_initializer(var_list))\n",
    "\n",
    "    def number_of_parameters(self, var_list):\n",
    "        return sum(np.prod(v.get_shape().as_list()) for v in var_list)\n",
    "\n",
    "    def save_model(self, path=None, sess=None, global_step=None, verbose=True):\n",
    "        save_dir = path or self.model_path\n",
    "        os.makedirs(save_dir, exist_ok=True)\n",
    "        self.saver.save(sess or self.sess,\n",
    "                        os.path.join(save_dir, 'model.ckpt'),\n",
    "                        global_step=global_step)\n",
    "        return self\n",
    "\n",
    "    def load_model(self, path=None, sess=None, verbose=True):\n",
    "        path = path or self.model_path\n",
    "        ckpt = tf.train.get_checkpoint_state(path)\n",
    "        if ckpt is None:\n",
    "            raise FileNotFoundError('Can`t load a model. '\\\n",
    "            'Checkpoint does not exist.')    \n",
    "        restore_path = ckpt.model_checkpoint_path\n",
    "        self.saver.restore(sess or self.sess, restore_path)\n",
    "\n",
    "        return self"
   ]
  },
  {
   "cell_type": "code",
   "execution_count": 5,
   "metadata": {},
   "outputs": [],
   "source": [
    "def get_second_dimension(tensor):\n",
    "    return tensor.get_shape().as_list()[1]"
   ]
  },
  {
   "cell_type": "code",
   "execution_count": 10,
   "metadata": {},
   "outputs": [],
   "source": [
    "from typing import Union\n",
    "from tqdm import tqdm\n",
    "\n",
    "class FullyConnectedClassifier(BaseNetwork):\n",
    "\n",
    "    def __init__(self,\n",
    "                 input_size: int,\n",
    "                 n_classes: int,\n",
    "                 layer_sizes: list,\n",
    "                 model_path: str,\n",
    "                 activation_fn=tf.nn.relu,\n",
    "                 dropout=0.25,\n",
    "                 momentum=0.9,\n",
    "                 weight_decay=0.0005,\n",
    "                 scope='FullyConnectedClassifier',\n",
    "                 verbose=True,\n",
    "                 pruning_threshold=None):\n",
    "\n",
    "        \"\"\"Create an instance of FullyConnectedClassifier\"\"\"\n",
    "\n",
    "        self.input_size = input_size\n",
    "        self.n_classes = n_classes\n",
    "        self.layer_sizes = layer_sizes + [n_classes]\n",
    "        self.model_path = model_path\n",
    "        self.activation_fn = activation_fn\n",
    "        self.dropout = dropout\n",
    "        self.momentum = momentum\n",
    "        self.weight_decay = weight_decay\n",
    "        self.scope = scope\n",
    "        self.verbose = verbose\n",
    "        self.pruning_threshold = pruning_threshold\n",
    "\n",
    "        self.graph = tf.Graph()\n",
    "        with self.graph.as_default():\n",
    "            with tf.variable_scope(self.scope):\n",
    "\n",
    "                self._create_placeholders()\n",
    "\n",
    "                self.logits = self._build_network(inputs=self.inputs,\n",
    "                                                  layer_sizes=self.layer_sizes,\n",
    "                                                  activation_fn=self.activation_fn,\n",
    "                                                  keep_prob=self.keep_prob)\n",
    "\n",
    "                self.loss = self._create_loss(logits=self.logits,\n",
    "                                              labels=self.labels,\n",
    "                                              weight_decay=self.weight_decay)\n",
    "\n",
    "                self.train_op = self._create_optimizer(self.loss,\n",
    "                                                       learning_rate=self.learning_rate,\n",
    "                                                       momentum=momentum,\n",
    "                                                       threshold=pruning_threshold)\n",
    "\n",
    "                self._create_metrics(logits=self.logits,\n",
    "                                     labels=self.labels,\n",
    "                                     loss=self.loss)\n",
    "\n",
    "                self.saver = self._create_saver(tf.global_variables())\n",
    "                self.init_variables(tf.global_variables())\n",
    "\n",
    "                if self.verbose:\n",
    "                    print('\\nSuccessfully created graph for {model}.'.format(\n",
    "                                                                model=self.scope))\n",
    "                    print('Number of parameters (four bytes == 1 parameter): {}.\\n'.format(\n",
    "                        int(self.number_of_parameters(tf.trainable_variables()))))\n",
    "\n",
    "\n",
    "    def _create_placeholders(self):\n",
    "\n",
    "        # create input nodes of a graph\n",
    "    \n",
    "        self.inputs = tf.placeholder(dtype=tf.float32,\n",
    "                                     shape=(None, self.input_size),\n",
    "                                     name='inputs')\n",
    "    \n",
    "        self.labels = tf.placeholder(dtype=tf.int64,\n",
    "                                     shape=None,\n",
    "                                     name='labels')\n",
    "    \n",
    "        self.keep_prob = tf.placeholder(dtype=tf.float32,\n",
    "                                        shape=(),\n",
    "                                        name='keep_prob')\n",
    "    \n",
    "        self.learning_rate = tf.placeholder(dtype=tf.float32,\n",
    "                                            shape=(),\n",
    "                                            name='learning_rate')\n",
    "    \n",
    "    def _build_network(self,\n",
    "                       inputs: tf.Tensor,\n",
    "                       layer_sizes: list,\n",
    "                       activation_fn: callable,\n",
    "                       keep_prob: Union[tf.Tensor, float]) -> tf.Tensor:\n",
    "\n",
    "        with tf.variable_scope('network'):\n",
    "    \n",
    "            net = inputs\n",
    "    \n",
    "            self.weight_matrices = []\n",
    "            self.biases = []\n",
    "\n",
    "            weights_initializer = tf.truncated_normal_initializer(stddev=0.01)\n",
    "            bias_initializer = tf.constant_initializer(0.1)\n",
    "\n",
    "            # dynamically create a network\n",
    "\n",
    "            for i, layer_size in enumerate(layer_sizes):\n",
    "    \n",
    "                with tf.variable_scope('layer_{layer}'.format(layer=i+1)):\n",
    "\n",
    "                    name = 'weights'\n",
    "                    shape = (get_second_dimension(net), layer_size)\n",
    "                    weights = tf.get_variable(name=name,\n",
    "                                              shape=shape,\n",
    "                                              initializer=weights_initializer)\n",
    "\n",
    "                    self.weight_matrices.append(weights)\n",
    "                    # L2 loss\n",
    "                    tf.add_to_collection(tf.GraphKeys.REGULARIZATION_LOSSES,\n",
    "                                         tf.reduce_sum(weights ** 2))\n",
    "        \n",
    "                    name = 'bias'\n",
    "                    shape = [layer_size]\n",
    "                    bias = tf.get_variable(name=name,\n",
    "                                           shape=shape,\n",
    "                                           initializer=bias_initializer)\n",
    "                    self.biases.append(bias)\n",
    "    \n",
    "                    net = tf.matmul(net, weights) + bias\n",
    "    \n",
    "                    # no activation and dropout on the last layer\n",
    "                    if i < len(layer_sizes) - 1:\n",
    "                        net = activation_fn(net)\n",
    "                        net = tf.nn.dropout(net, keep_prob=keep_prob)\n",
    "    \n",
    "            return net\n",
    "    \n",
    "    def _create_loss(self,\n",
    "                     logits: tf.Tensor,\n",
    "                     labels: tf.Tensor,\n",
    "                     weight_decay: float) -> tf.Tensor:\n",
    "    \n",
    "        with tf.variable_scope('loss'):\n",
    "            classification_loss = tf.nn.sparse_softmax_cross_entropy_with_logits(\n",
    "                                            logits=logits, labels=labels,\n",
    "                                            name='classification_loss')\n",
    "    \n",
    "            classification_loss = tf.reduce_mean(classification_loss,\n",
    "                                                 name='classification_loss_averaged')\n",
    "\n",
    "            l2_loss = weight_decay * tf.add_n(tf.losses.get_regularization_losses())\n",
    "    \n",
    "            return l2_loss + classification_loss\n",
    "\n",
    "    def _create_optimizer(self,\n",
    "                          loss: tf.Tensor,\n",
    "                          learning_rate: Union[tf.Tensor, float],\n",
    "                          momentum: Union[tf.Tensor, float],\n",
    "                          threshold: float) -> tf.Operation:\n",
    "\n",
    "        if threshold is not None:\n",
    "            return self._create_optimizer_sparse(loss=loss,\n",
    "                                                 threshold=threshold,\n",
    "                                                 learning_rate=learning_rate,\n",
    "                                                 momentum=momentum)\n",
    "        with tf.variable_scope('optimizer'):\n",
    "\n",
    "            optimizer = tf.train.MomentumOptimizer(learning_rate=learning_rate,\n",
    "                                                   momentum=momentum,\n",
    "                                                   name='optimizer')\n",
    "            self.global_step = tf.Variable(0)\n",
    "            train_op = optimizer.minimize(loss,\n",
    "                                          global_step=self.global_step,\n",
    "                                          name='train_op')\n",
    "\n",
    "            return train_op\n",
    "\n",
    "    def _apply_prune_on_grads(self,\n",
    "                              grads_and_vars: list,\n",
    "                              threshold: float):\n",
    "\n",
    "        # we need to make gradients correspondent\n",
    "        # to the pruned weights to be zero\n",
    "\n",
    "        grads_and_vars_sparse = []\n",
    "\n",
    "        for grad, var in grads_and_vars:\n",
    "            if 'weights' in var.name:\n",
    "                small_weights = tf.greater(threshold, tf.abs(var))\n",
    "                mask = tf.cast(tf.logical_not(small_weights), tf.float32)\n",
    "                grad = grad * mask\n",
    "\n",
    "            grads_and_vars_sparse.append((grad, var))\n",
    "               \n",
    "        return grads_and_vars_sparse\n",
    "\n",
    "    def _create_optimizer_sparse(self,\n",
    "                                 loss: tf.Tensor,\n",
    "                                 threshold: float,\n",
    "                                 learning_rate: Union[tf.Tensor, float],\n",
    "                                 momentum: Union[tf.Tensor, float]) -> tf.Operation:\n",
    "\n",
    "        with tf.variable_scope('optimizer'):\n",
    "\n",
    "            optimizer = tf.train.MomentumOptimizer(learning_rate=learning_rate,\n",
    "                                                   momentum=momentum,\n",
    "                                                   name='optimizer')\n",
    "            self.global_step = tf.Variable(0)\n",
    "            grads_and_vars = optimizer.compute_gradients(loss)\n",
    "            grads_and_vars_sparse = self._apply_prune_on_grads(grads_and_vars,\n",
    "                                                               threshold)\n",
    "            train_op = optimizer.apply_gradients(grads_and_vars_sparse,\n",
    "                                                 global_step=self.global_step,\n",
    "                                                 name='train_op')\n",
    "\n",
    "            return train_op\n",
    "\n",
    "    def _create_metrics(self,\n",
    "                        logits: tf.Tensor,\n",
    "                        labels: tf.Tensor,\n",
    "                        loss: tf.Tensor):\n",
    "\n",
    "        correct_prediction = tf.equal(tf.argmax(self.logits, 1), labels)\n",
    "        self.accuracy = tf.reduce_mean(tf.cast(correct_prediction, tf.float32))\n",
    "\n",
    "    def _create_saver(self, var_list):\n",
    "\n",
    "        saver = tf.train.Saver(var_list=var_list)\n",
    "        return saver\n",
    "\n",
    "    def fit(self,\n",
    "            n_epochs: int,\n",
    "            batch_size: int,\n",
    "            learning_rate_schedule: callable,\n",
    "            train_data_provider,\n",
    "            validation_data_provider,\n",
    "            test_data_provider):\n",
    "\n",
    "        n_iterations = train_data_provider.num_examples // batch_size\n",
    "\n",
    "        for epoch in range(n_epochs):\n",
    "            print('Starting epoch {epoch}.\\n'.format(epoch=epoch+1))\n",
    "            for iteration in tqdm(range(n_iterations), ncols=75):\n",
    "\n",
    "                images, labels = train_data_provider.next_batch(batch_size)\n",
    "\n",
    "                feed_dict = {self.inputs: images,\n",
    "                             self.labels: labels,\n",
    "                             self.learning_rate: learning_rate_schedule(epoch+1),\n",
    "                             self.keep_prob: 1 - self.dropout} \n",
    "\n",
    "                self.sess.run(self.train_op, feed_dict=feed_dict)\n",
    "    \n",
    "            # evaluate metrics after every epoch\n",
    "            train_accuracy, train_loss = self.evaluate(train_data_provider,\n",
    "                                                       batch_size=batch_size)\n",
    "            validation_accuracy, validation_loss = self.evaluate(validation_data_provider,\n",
    "                                                                 batch_size=batch_size)\n",
    "\n",
    "            print('\\nEpoch {epoch} completed.'.format(epoch=epoch+1))\n",
    "            print('Accuracy on train: {accuracy}, loss on train: {loss}'.format(\n",
    "                                    accuracy=train_accuracy, loss=train_loss))\n",
    "            print('Accuracy on validation: {accuracy}, loss on validation: {loss}'.format(\n",
    "                                    accuracy=validation_accuracy, loss=validation_loss))\n",
    "\n",
    "        test_accuracy, test_loss = self.evaluate(test_data_provider,\n",
    "                                                 batch_size=batch_size)\n",
    "\n",
    "        print('\\nOptimization finished.'.format(epoch=epoch+1))\n",
    "        print('Accuracy on test: {accuracy}, loss on test: {loss}'.format(\n",
    "                                accuracy=test_accuracy, loss=test_loss))\n",
    "\n",
    "        self.save_model(global_step=self.global_step)\n",
    "\n",
    "    def evaluate(self, data_provider, batch_size: int):\n",
    "\n",
    "        fetches = [self.accuracy, self.loss]\n",
    "\n",
    "        n_iterations = data_provider.num_examples // batch_size\n",
    "\n",
    "        average_accuracy = 0\n",
    "        average_loss = 0\n",
    "\n",
    "        for iteration in range(n_iterations):\n",
    "\n",
    "            images, labels = data_provider.next_batch(batch_size)\n",
    "\n",
    "            feed_dict = {self.inputs: images,\n",
    "                         self.labels: labels,\n",
    "                         self.keep_prob: 1.0} \n",
    "\n",
    "            accuracy, loss = self.sess.run(fetches, feed_dict=feed_dict)\n",
    "            \n",
    "            average_accuracy += accuracy / n_iterations\n",
    "            average_loss += loss / n_iterations\n",
    "\n",
    "        return average_accuracy, average_loss"
   ]
  },
  {
   "cell_type": "code",
   "execution_count": 25,
   "metadata": {},
   "outputs": [],
   "source": [
    "class ConfigNetworkDense:\n",
    "\n",
    "    input_size = 28 * 28\n",
    "    n_classes = 10\n",
    "    layer_sizes = [1000, 1000, 500, 200]\n",
    "    dropout = 0.5\n",
    "    weight_decay = 0.0005\n",
    "    activation_fn = tf.nn.relu\n",
    "    model_path = 'saved_models/network_dense'\n",
    "\n",
    "    n_epochs = 25\n",
    "    batch_size = 100\n",
    "\n",
    "    @staticmethod\n",
    "    def learning_rate_schedule(epoch):\n",
    "\n",
    "        if epoch < 10:\n",
    "            return 1e-2\n",
    "        elif epoch < 20:\n",
    "            return 1e-3\n",
    "        else:\n",
    "            return 1e-4\n",
    "\n",
    "class ConfigNetworkDensePruned:\n",
    "\n",
    "    input_size = 28 * 28\n",
    "    n_classes = 10\n",
    "    layer_sizes = [1000, 1000, 500, 200]\n",
    "    dropout = 0\n",
    "    weight_decay = 0.0001\n",
    "    activation_fn = tf.nn.relu\n",
    "    model_path = 'saved_models/network_dense_pruned'\n",
    "    pruning_threshold = 0.03\n",
    "\n",
    "    n_epochs = 20\n",
    "    batch_size = 100\n",
    "\n",
    "    @staticmethod\n",
    "    def learning_rate_schedule(epoch):\n",
    "\n",
    "        if epoch < 10:\n",
    "            return 1e-3\n",
    "        else:\n",
    "            return 1e-4\n",
    "\n",
    "class ConfigNetworkSparse:\n",
    "\n",
    "    input_size = 28 * 28\n",
    "    n_classes = 10\n",
    "    activation_fn = tf.nn.relu\n",
    "    model_path = 'saved_models/network_sparse'\n",
    "    batch_size = 100"
   ]
  },
  {
   "cell_type": "code",
   "execution_count": 26,
   "metadata": {
    "scrolled": true
   },
   "outputs": [
    {
     "name": "stdout",
     "output_type": "stream",
     "text": [
      "\n",
      "Successfully created graph for FullyConnectedClassifier.\n",
      "Number of parameters (four bytes == 1 parameter): 2388711.\n",
      "\n",
      "Starting epoch 1.\n",
      "\n"
     ]
    },
    {
     "name": "stderr",
     "output_type": "stream",
     "text": [
      "100%|███████████████████████████████████| 550/550 [00:04<00:00, 115.39it/s]\n"
     ]
    },
    {
     "name": "stdout",
     "output_type": "stream",
     "text": [
      "\n",
      "Epoch 1 completed.\n",
      "Accuracy on train: 0.11234545462172162, loss on train: 2.382831636342133\n",
      "Accuracy on validation: 0.11259999938309194, loss on validation: 2.3828945112228386\n",
      "Starting epoch 2.\n",
      "\n"
     ]
    },
    {
     "name": "stderr",
     "output_type": "stream",
     "text": [
      "100%|███████████████████████████████████| 550/550 [00:03<00:00, 141.99it/s]\n"
     ]
    },
    {
     "name": "stdout",
     "output_type": "stream",
     "text": [
      "\n",
      "Epoch 2 completed.\n",
      "Accuracy on train: 0.5411090873046359, loss on train: 1.3049483676390212\n",
      "Accuracy on validation: 0.5449999976158143, loss on validation: 1.2948278307914733\n",
      "Starting epoch 3.\n",
      "\n"
     ]
    },
    {
     "name": "stderr",
     "output_type": "stream",
     "text": [
      "100%|███████████████████████████████████| 550/550 [00:03<00:00, 142.10it/s]\n"
     ]
    },
    {
     "name": "stdout",
     "output_type": "stream",
     "text": [
      "\n",
      "Epoch 3 completed.\n",
      "Accuracy on train: 0.8997090928121062, loss on train: 0.4950586892799904\n",
      "Accuracy on validation: 0.9056000018119811, loss on validation: 0.5015721809864043\n",
      "Starting epoch 4.\n",
      "\n"
     ]
    },
    {
     "name": "stderr",
     "output_type": "stream",
     "text": [
      "100%|███████████████████████████████████| 550/550 [00:03<00:00, 140.94it/s]\n"
     ]
    },
    {
     "name": "stdout",
     "output_type": "stream",
     "text": [
      "\n",
      "Epoch 4 completed.\n",
      "Accuracy on train: 0.9371090929074725, loss on train: 0.3631555180928924\n",
      "Accuracy on validation: 0.9390000009536743, loss on validation: 0.37457269638776786\n",
      "Starting epoch 5.\n",
      "\n"
     ]
    },
    {
     "name": "stderr",
     "output_type": "stream",
     "text": [
      "100%|████████████████████████████████████| 550/550 [00:06<00:00, 85.82it/s]\n"
     ]
    },
    {
     "name": "stdout",
     "output_type": "stream",
     "text": [
      "\n",
      "Epoch 5 completed.\n",
      "Accuracy on train: 0.9522545476393275, loss on train: 0.30924045660278987\n",
      "Accuracy on validation: 0.9510000002384187, loss on validation: 0.3304586723446846\n",
      "Starting epoch 6.\n",
      "\n"
     ]
    },
    {
     "name": "stderr",
     "output_type": "stream",
     "text": [
      "100%|███████████████████████████████████| 550/550 [00:04<00:00, 115.18it/s]\n"
     ]
    },
    {
     "name": "stdout",
     "output_type": "stream",
     "text": [
      "\n",
      "Epoch 6 completed.\n",
      "Accuracy on train: 0.9622909127582192, loss on train: 0.27503564563664523\n",
      "Accuracy on validation: 0.9594000041484831, loss on validation: 0.296380904018879\n",
      "Starting epoch 7.\n",
      "\n"
     ]
    },
    {
     "name": "stderr",
     "output_type": "stream",
     "text": [
      "100%|████████████████████████████████████| 550/550 [00:05<00:00, 93.45it/s]\n"
     ]
    },
    {
     "name": "stdout",
     "output_type": "stream",
     "text": [
      "\n",
      "Epoch 7 completed.\n",
      "Accuracy on train: 0.9681818243590248, loss on train: 0.25412577588449825\n",
      "Accuracy on validation: 0.9670000016689296, loss on validation: 0.2796968045830728\n",
      "Starting epoch 8.\n",
      "\n"
     ]
    },
    {
     "name": "stderr",
     "output_type": "stream",
     "text": [
      "100%|███████████████████████████████████| 550/550 [00:03<00:00, 150.14it/s]\n"
     ]
    },
    {
     "name": "stdout",
     "output_type": "stream",
     "text": [
      "\n",
      "Epoch 8 completed.\n",
      "Accuracy on train: 0.9724363721500714, loss on train: 0.2402526131272314\n",
      "Accuracy on validation: 0.9674000108242031, loss on validation: 0.2683866894245148\n",
      "Starting epoch 9.\n",
      "\n"
     ]
    },
    {
     "name": "stderr",
     "output_type": "stream",
     "text": [
      "100%|███████████████████████████████████| 550/550 [00:03<00:00, 150.18it/s]\n"
     ]
    },
    {
     "name": "stdout",
     "output_type": "stream",
     "text": [
      "\n",
      "Epoch 9 completed.\n",
      "Accuracy on train: 0.9760545543107084, loss on train: 0.22791125457395223\n",
      "Accuracy on validation: 0.9720000040531158, loss on validation: 0.25806891739368437\n",
      "Starting epoch 10.\n",
      "\n"
     ]
    },
    {
     "name": "stderr",
     "output_type": "stream",
     "text": [
      "100%|███████████████████████████████████| 550/550 [00:03<00:00, 149.57it/s]\n"
     ]
    },
    {
     "name": "stdout",
     "output_type": "stream",
     "text": [
      "\n",
      "Epoch 10 completed.\n",
      "Accuracy on train: 0.9806727375767409, loss on train: 0.21123867452144593\n",
      "Accuracy on validation: 0.9744000101089478, loss on validation: 0.2455361151695252\n",
      "Starting epoch 11.\n",
      "\n"
     ]
    },
    {
     "name": "stderr",
     "output_type": "stream",
     "text": [
      "100%|███████████████████████████████████| 550/550 [00:03<00:00, 149.57it/s]\n"
     ]
    },
    {
     "name": "stdout",
     "output_type": "stream",
     "text": [
      "\n",
      "Epoch 11 completed.\n",
      "Accuracy on train: 0.9820909193429053, loss on train: 0.20616390052166844\n",
      "Accuracy on validation: 0.9740000092983244, loss on validation: 0.2429532384872437\n",
      "Starting epoch 12.\n",
      "\n"
     ]
    },
    {
     "name": "stderr",
     "output_type": "stream",
     "text": [
      "100%|███████████████████████████████████| 550/550 [00:03<00:00, 150.55it/s]\n"
     ]
    },
    {
     "name": "stdout",
     "output_type": "stream",
     "text": [
      "\n",
      "Epoch 12 completed.\n",
      "Accuracy on train: 0.9825272840803296, loss on train: 0.20310400743376117\n",
      "Accuracy on validation: 0.9750000095367434, loss on validation: 0.24039147138595582\n",
      "Starting epoch 13.\n",
      "\n"
     ]
    },
    {
     "name": "stderr",
     "output_type": "stream",
     "text": [
      "100%|███████████████████████████████████| 550/550 [00:03<00:00, 150.63it/s]\n"
     ]
    },
    {
     "name": "stdout",
     "output_type": "stream",
     "text": [
      "\n",
      "Epoch 13 completed.\n",
      "Accuracy on train: 0.9835091017593003, loss on train: 0.19998135284944016\n",
      "Accuracy on validation: 0.9762000143527984, loss on validation: 0.23922708511352547\n",
      "Starting epoch 14.\n",
      "\n"
     ]
    },
    {
     "name": "stderr",
     "output_type": "stream",
     "text": [
      "100%|███████████████████████████████████| 550/550 [00:03<00:00, 150.59it/s]\n"
     ]
    },
    {
     "name": "stdout",
     "output_type": "stream",
     "text": [
      "\n",
      "Epoch 14 completed.\n",
      "Accuracy on train: 0.9838727388598671, loss on train: 0.19749079235575412\n",
      "Accuracy on validation: 0.9756000077724455, loss on validation: 0.23795019060373304\n",
      "Starting epoch 15.\n",
      "\n"
     ]
    },
    {
     "name": "stderr",
     "output_type": "stream",
     "text": [
      "100%|███████████████████████████████████| 550/550 [00:03<00:00, 150.72it/s]\n"
     ]
    },
    {
     "name": "stdout",
     "output_type": "stream",
     "text": [
      "\n",
      "Epoch 15 completed.\n",
      "Accuracy on train: 0.9846363747119878, loss on train: 0.19465119871226239\n",
      "Accuracy on validation: 0.9756000077724456, loss on validation: 0.23528849869966503\n",
      "Starting epoch 16.\n",
      "\n"
     ]
    },
    {
     "name": "stderr",
     "output_type": "stream",
     "text": [
      "100%|███████████████████████████████████| 550/550 [00:03<00:00, 155.85it/s]\n"
     ]
    },
    {
     "name": "stdout",
     "output_type": "stream",
     "text": [
      "\n",
      "Epoch 16 completed.\n",
      "Accuracy on train: 0.9850181925296747, loss on train: 0.19244352825663288\n",
      "Accuracy on validation: 0.976600009202957, loss on validation: 0.2350234872102737\n",
      "Starting epoch 17.\n",
      "\n"
     ]
    },
    {
     "name": "stderr",
     "output_type": "stream",
     "text": [
      "100%|███████████████████████████████████| 550/550 [00:03<00:00, 150.47it/s]\n"
     ]
    },
    {
     "name": "stdout",
     "output_type": "stream",
     "text": [
      "\n",
      "Epoch 17 completed.\n",
      "Accuracy on train: 0.9854545564001225, loss on train: 0.19050382527438073\n",
      "Accuracy on validation: 0.9756000089645386, loss on validation: 0.23495179593563084\n",
      "Starting epoch 18.\n",
      "\n"
     ]
    },
    {
     "name": "stderr",
     "output_type": "stream",
     "text": [
      "100%|███████████████████████████████████| 550/550 [00:03<00:00, 150.88it/s]\n"
     ]
    },
    {
     "name": "stdout",
     "output_type": "stream",
     "text": [
      "\n",
      "Epoch 18 completed.\n",
      "Accuracy on train: 0.9856727375767418, loss on train: 0.1883967905965719\n",
      "Accuracy on validation: 0.9770000088214872, loss on validation: 0.23297013044357298\n",
      "Starting epoch 19.\n",
      "\n"
     ]
    },
    {
     "name": "stderr",
     "output_type": "stream",
     "text": [
      "100%|███████████████████████████████████| 550/550 [00:03<00:00, 149.65it/s]\n"
     ]
    },
    {
     "name": "stdout",
     "output_type": "stream",
     "text": [
      "\n",
      "Epoch 19 completed.\n",
      "Accuracy on train: 0.9862000098011672, loss on train: 0.1861497967080636\n",
      "Accuracy on validation: 0.9756000125408173, loss on validation: 0.23137821525335317\n",
      "Starting epoch 20.\n",
      "\n"
     ]
    },
    {
     "name": "stderr",
     "output_type": "stream",
     "text": [
      "100%|███████████████████████████████████| 550/550 [00:03<00:00, 146.98it/s]\n"
     ]
    },
    {
     "name": "stdout",
     "output_type": "stream",
     "text": [
      "\n",
      "Epoch 20 completed.\n",
      "Accuracy on train: 0.9864181920615078, loss on train: 0.18521406165578144\n",
      "Accuracy on validation: 0.9764000058174133, loss on validation: 0.23097135931253432\n",
      "Starting epoch 21.\n",
      "\n"
     ]
    },
    {
     "name": "stderr",
     "output_type": "stream",
     "text": [
      "100%|███████████████████████████████████| 550/550 [00:03<00:00, 149.33it/s]\n"
     ]
    },
    {
     "name": "stdout",
     "output_type": "stream",
     "text": [
      "\n",
      "Epoch 21 completed.\n",
      "Accuracy on train: 0.9866363735632436, loss on train: 0.1847660984505307\n",
      "Accuracy on validation: 0.97660001039505, loss on validation: 0.23093514233827586\n",
      "Starting epoch 22.\n",
      "\n"
     ]
    },
    {
     "name": "stderr",
     "output_type": "stream",
     "text": [
      "100%|███████████████████████████████████| 550/550 [00:03<00:00, 149.57it/s]\n"
     ]
    },
    {
     "name": "stdout",
     "output_type": "stream",
     "text": [
      "\n",
      "Epoch 22 completed.\n",
      "Accuracy on train: 0.9868000094457087, loss on train: 0.18445912160656683\n",
      "Accuracy on validation: 0.9768000090122221, loss on validation: 0.2306991070508957\n",
      "Starting epoch 23.\n",
      "\n"
     ]
    },
    {
     "name": "stderr",
     "output_type": "stream",
     "text": [
      "100%|███████████████████████████████████| 550/550 [00:03<00:00, 150.80it/s]\n"
     ]
    },
    {
     "name": "stdout",
     "output_type": "stream",
     "text": [
      "\n",
      "Epoch 23 completed.\n",
      "Accuracy on train: 0.9869272833520688, loss on train: 0.18415818062695585\n",
      "Accuracy on validation: 0.9770000088214874, loss on validation: 0.2303501603007317\n",
      "Starting epoch 24.\n",
      "\n"
     ]
    },
    {
     "name": "stderr",
     "output_type": "stream",
     "text": [
      "100%|███████████████████████████████████| 550/550 [00:03<00:00, 150.26it/s]\n"
     ]
    },
    {
     "name": "stdout",
     "output_type": "stream",
     "text": [
      "\n",
      "Epoch 24 completed.\n",
      "Accuracy on train: 0.9868727369741935, loss on train: 0.1837971640987829\n",
      "Accuracy on validation: 0.9764000070095059, loss on validation: 0.23024477988481518\n",
      "Starting epoch 25.\n",
      "\n"
     ]
    },
    {
     "name": "stderr",
     "output_type": "stream",
     "text": [
      "100%|███████████████████████████████████| 550/550 [00:03<00:00, 150.59it/s]\n"
     ]
    },
    {
     "name": "stdout",
     "output_type": "stream",
     "text": [
      "\n",
      "Epoch 25 completed.\n",
      "Accuracy on train: 0.9870181920311633, loss on train: 0.18357313153418614\n",
      "Accuracy on validation: 0.9766000103950501, loss on validation: 0.23004573702812195\n",
      "\n",
      "Optimization finished.\n",
      "Accuracy on test: 0.974400011301041, loss on test: 0.23406469613313682\n"
     ]
    }
   ],
   "source": [
    "classifier = FullyConnectedClassifier(input_size=ConfigNetworkDense.input_size,\n",
    "                                                    n_classes=ConfigNetworkDense.n_classes,\n",
    "                                                    layer_sizes=ConfigNetworkDense.layer_sizes,\n",
    "                                                    model_path=ConfigNetworkDense.model_path,\n",
    "                                                    dropout=ConfigNetworkDense.dropout,\n",
    "                                                    weight_decay=ConfigNetworkDense.weight_decay,\n",
    "                                                    activation_fn=ConfigNetworkDense.activation_fn)\n",
    "\n",
    "# than train it\n",
    "classifier.fit(n_epochs=ConfigNetworkDense.n_epochs,\n",
    "               batch_size=ConfigNetworkDense.batch_size,\n",
    "               learning_rate_schedule=ConfigNetworkDense.learning_rate_schedule,\n",
    "               train_data_provider=train_data_provider,\n",
    "               validation_data_provider=validation_data_provider,\n",
    "test_data_provider=test_data_provider)"
   ]
  },
  {
   "cell_type": "code",
   "execution_count": 13,
   "metadata": {},
   "outputs": [],
   "source": [
    "from matplotlib import pyplot as plt\n",
    "\n",
    "def plot_histogram(weights_list: list,\n",
    "                   image_name: str,\n",
    "                   include_zeros=True):\n",
    "\n",
    "    \"\"\"A function to plot weights distribution\"\"\"\n",
    "\n",
    "    weights = []\n",
    "    for w in weights_list:\n",
    "        weights.extend(list(w.ravel()))\n",
    "\n",
    "    if not include_zeros:\n",
    "        weights = [w for w in weights if w != 0]\n",
    "\n",
    "    fig = plt.figure(figsize=(10, 7))\n",
    "    ax = fig.add_subplot(111)\n",
    "\n",
    "    ax.hist(weights,\n",
    "            bins=100,\n",
    "            facecolor='green',\n",
    "            edgecolor='black',\n",
    "            alpha=0.7,\n",
    "            range=(-0.15, 0.15))\n",
    "\n",
    "    ax.set_title('Weights distribution')\n",
    "    ax.set_xlabel('Weights values')\n",
    "    ax.set_ylabel('Number of weights')\n",
    "\n",
    "    fig.savefig(image_name + '.png')"
   ]
  },
  {
   "cell_type": "code",
   "execution_count": 14,
   "metadata": {},
   "outputs": [],
   "source": [
    "import collections\n",
    "\n",
    "# Weight Pruning, setting values of the weight of neurons equal to zero\n",
    "def prune_weights(weights, pruning_threshold):\n",
    "    small_weights = np.abs(weights) < pruning_threshold\n",
    "    weights[small_weights] = 0\n",
    "    values = weights[weights != 0]\n",
    "    indices = np.transpose(np.nonzero(weights))\n",
    "    return values, indices\n",
    "\n",
    "def get_sparse_values_indices(weights):\n",
    "    values = weights[weights != 0]\n",
    "    indices = np.transpose(np.nonzero(weights))\n",
    "    return values, indices\n",
    "\n",
    "def mask_for_big_values(weights, pruning_threshold):\n",
    "    small_weights = np.abs(weights) < pruning_threshold\n",
    "    return np.logical_not(small_weights)\n",
    "\n",
    "def calculate_number_of_sparse_parameters(sparse_layers):\n",
    "\n",
    "    total_count = 0\n",
    "\n",
    "    for layer in sparse_layers:\n",
    "\n",
    "        total_count += layer.values.nbytes // 4\n",
    "        total_count += layer.indices.nbytes // 4\n",
    "        total_count += layer.dense_shape.nbytes // 4\n",
    "        total_count += layer.bias.nbytes // 4\n",
    "\n",
    "    return total_count\n",
    "\n",
    "class SparseLayer(collections.namedtuple('SparseLayer',\n",
    "                                         ['values',\n",
    "                                          'indices',\n",
    "                                          'dense_shape',\n",
    "                                          'bias'])):\n",
    "\n",
    "    \"\"\"An auxilary class to represent sparse layer\"\"\"\n",
    "    pass"
   ]
  },
  {
   "cell_type": "code",
   "execution_count": 15,
   "metadata": {},
   "outputs": [
    {
     "data": {
      "text/plain": [
       "Datasets(train=<tensorflow.contrib.learn.python.learn.datasets.mnist.DataSet object at 0x0000027BAF30AB00>, validation=<tensorflow.contrib.learn.python.learn.datasets.mnist.DataSet object at 0x0000027BC80F6F98>, test=<tensorflow.contrib.learn.python.learn.datasets.mnist.DataSet object at 0x0000027BC80F6390>)"
      ]
     },
     "execution_count": 15,
     "metadata": {},
     "output_type": "execute_result"
    }
   ],
   "source": [
    "mnist"
   ]
  },
  {
   "cell_type": "code",
   "execution_count": 16,
   "metadata": {},
   "outputs": [
    {
     "data": {
      "text/plain": [
       "<tensorflow.contrib.learn.python.learn.datasets.mnist.DataSet at 0x27baf30ab00>"
      ]
     },
     "execution_count": 16,
     "metadata": {},
     "output_type": "execute_result"
    }
   ],
   "source": [
    "train_data_provider"
   ]
  },
  {
   "cell_type": "markdown",
   "metadata": {},
   "source": [
    "# Weight Pruning"
   ]
  },
  {
   "cell_type": "code",
   "execution_count": 75,
   "metadata": {
    "scrolled": true
   },
   "outputs": [
    {
     "name": "stdout",
     "output_type": "stream",
     "text": [
      "\n",
      "Successfully created graph for FullyConnectedClassifier.\n",
      "Number of parameters (four bytes == 1 parameter): 2388711.\n",
      "\n",
      "INFO:tensorflow:Restoring parameters from saved_models/network_dense\\model.ckpt-13750\n",
      "Accuracy on test before fine-tuning: 0.974600011110306, loss on test: 0.12615751568227998\n",
      "Starting epoch 1.\n",
      "\n"
     ]
    },
    {
     "name": "stderr",
     "output_type": "stream",
     "text": [
      "100%|███████████████████████████████████| 550/550 [00:05<00:00, 108.54it/s]\n"
     ]
    },
    {
     "name": "stdout",
     "output_type": "stream",
     "text": [
      "\n",
      "Epoch 1 completed.\n",
      "Accuracy on train: 0.9869818279959917, loss on train: 0.07497086186300625\n",
      "Accuracy on validation: 0.9766000151634219, loss on validation: 0.12179115921258929\n",
      "Starting epoch 2.\n",
      "\n"
     ]
    },
    {
     "name": "stderr",
     "output_type": "stream",
     "text": [
      "100%|███████████████████████████████████| 550/550 [00:04<00:00, 120.72it/s]\n"
     ]
    },
    {
     "name": "stdout",
     "output_type": "stream",
     "text": [
      "\n",
      "Epoch 2 completed.\n",
      "Accuracy on train: 0.9871454643119438, loss on train: 0.0753677201067859\n",
      "Accuracy on validation: 0.9770000112056734, loss on validation: 0.12182028353214262\n",
      "Starting epoch 3.\n",
      "\n"
     ]
    },
    {
     "name": "stderr",
     "output_type": "stream",
     "text": [
      "100%|███████████████████████████████████| 550/550 [00:04<00:00, 122.09it/s]\n"
     ]
    },
    {
     "name": "stdout",
     "output_type": "stream",
     "text": [
      "\n",
      "Epoch 3 completed.\n",
      "Accuracy on train: 0.9872181921655452, loss on train: 0.07414520113982942\n",
      "Accuracy on validation: 0.9768000102043151, loss on validation: 0.12158899240195753\n",
      "Starting epoch 4.\n",
      "\n"
     ]
    },
    {
     "name": "stderr",
     "output_type": "stream",
     "text": [
      "100%|███████████████████████████████████| 550/550 [00:04<00:00, 114.82it/s]\n"
     ]
    },
    {
     "name": "stdout",
     "output_type": "stream",
     "text": [
      "\n",
      "Epoch 4 completed.\n",
      "Accuracy on train: 0.987818190943108, loss on train: 0.07295463593846015\n",
      "Accuracy on validation: 0.9772000074386594, loss on validation: 0.12156511090695854\n",
      "Starting epoch 5.\n",
      "\n"
     ]
    },
    {
     "name": "stderr",
     "output_type": "stream",
     "text": [
      "100%|███████████████████████████████████| 550/550 [00:04<00:00, 117.36it/s]\n"
     ]
    },
    {
     "name": "stdout",
     "output_type": "stream",
     "text": [
      "\n",
      "Epoch 5 completed.\n",
      "Accuracy on train: 0.9875818268819266, loss on train: 0.07418291633779345\n",
      "Accuracy on validation: 0.9764000093936919, loss on validation: 0.12155591800808907\n",
      "\n",
      "Optimization finished.\n",
      "Accuracy on test: 0.9746000111103058, loss on test: 0.12471961952745916\n"
     ]
    },
    {
     "data": {
      "image/png": "[encoded data removed]",
      "text/plain": [
       "<Figure size 720x504 with 1 Axes>"
      ]
     },
     "metadata": {},
     "output_type": "display_data"
    },
    {
     "data": {
      "image/png": "[encoded data removed]",
      "text/plain": [
       "<Figure size 720x504 with 1 Axes>"
      ]
     },
     "metadata": {},
     "output_type": "display_data"
    },
    {
     "data": {
      "image/png": "[encoded data removed]",
      "text/plain": [
       "<Figure size 720x504 with 1 Axes>"
      ]
     },
     "metadata": {},
     "output_type": "display_data"
    }
   ],
   "source": [
    "def weightPruning(pruning_percent):\n",
    "    classifier = FullyConnectedClassifier(\n",
    "                                input_size=ConfigNetworkDensePruned.input_size,\n",
    "                                n_classes=ConfigNetworkDensePruned.n_classes,\n",
    "                                layer_sizes=ConfigNetworkDensePruned.layer_sizes,\n",
    "                                model_path=ConfigNetworkDensePruned.model_path,\n",
    "                                dropout=ConfigNetworkDensePruned.dropout,\n",
    "                                weight_decay=ConfigNetworkDensePruned.weight_decay,\n",
    "                                activation_fn=ConfigNetworkDensePruned.activation_fn,\n",
    "                                pruning_threshold=ConfigNetworkDensePruned.pruning_threshold)\n",
    "\n",
    "    # collect tf variables and correspoding optimizer variables\n",
    "    with classifier.graph.as_default():\n",
    "        weight_matrices_tf = classifier.weight_matrices\n",
    "        optimizer_matrices_tf = [v \n",
    "                                  for v in tf.global_variables()\n",
    "                                  for w in weight_matrices_tf\n",
    "                                  if w.name[:-2] in v.name\n",
    "                                  and 'optimizer' in v.name]\n",
    "\n",
    "    # load previously trained model\n",
    "    # and get values of weights and optimizer variables\n",
    "    weights, optimizer_weights = (classifier\n",
    "                                 .load_model(ConfigNetworkDense.model_path)\n",
    "                                 .sess.run([weight_matrices_tf,\n",
    "                                            optimizer_matrices_tf]))\n",
    "\n",
    "    # plot weights distribution before pruning\n",
    "    weights = classifier.sess.run(weight_matrices_tf)\n",
    "    plot_histogram(weights,'weights_distribution_before_pruning',include_zeros=False)\n",
    "\n",
    "    # for each pair (weight matrix + optimizer matrix)\n",
    "    # get a binary mask to get rid of small values. \n",
    "    # Than, based on this mask change the values of \n",
    "    # the weight matrix and the optimizer matrix  \n",
    "\n",
    "    for (weight_matrix,\n",
    "         optimizer_matrix,\n",
    "         tf_weight_matrix,\n",
    "         tf_optimizer_matrix) in zip(\n",
    "         weights,\n",
    "         optimizer_weights,\n",
    "         weight_matrices_tf,\n",
    "         optimizer_matrices_tf):\n",
    "\n",
    "        mask =  mask_for_big_values(weight_matrix,pruning_percent)\n",
    "        with classifier.graph.as_default():\n",
    "            # update weights\n",
    "            classifier.sess.run(tf_weight_matrix.assign(weight_matrix * mask))\n",
    "            # and corresponding optimizer matrix\n",
    "            classifier.sess.run(tf_optimizer_matrix.assign(optimizer_matrix * mask))\n",
    "\n",
    "    # now, lets look on weights distribution (zero values are excluded)\n",
    "    weights = classifier.sess.run(weight_matrices_tf)\n",
    "    plot_histogram(weights,'weights_distribution_after_pruning',include_zeros=False)\n",
    "\n",
    "    accuracy, loss = classifier.evaluate(data_provider=test_data_provider,\n",
    "                                         batch_size=ConfigNetworkDensePruned.batch_size)\n",
    "    print('Accuracy on test before fine-tuning: {accuracy}, loss on test: {loss}'.format(\n",
    "                                                        accuracy=accuracy, loss=loss))\n",
    "\n",
    "    # fine-tune classifier \n",
    "    classifier.fit(n_epochs=5,\n",
    "                   batch_size=ConfigNetworkDensePruned.batch_size,\n",
    "                   learning_rate_schedule=ConfigNetworkDensePruned.learning_rate_schedule,\n",
    "                   train_data_provider=train_data_provider,\n",
    "                   validation_data_provider=validation_data_provider,\n",
    "                   test_data_provider=test_data_provider)\n",
    "\n",
    "    # plot weights distribution again to see the difference\n",
    "    weights = classifier.sess.run(weight_matrices_tf)\n",
    "    plot_histogram(weights,'weights_distribution_after_fine_tuning',include_zeros=False)\n",
    "weightPruning(0)"
   ]
  },
  {
   "cell_type": "code",
   "execution_count": 76,
   "metadata": {
    "scrolled": true
   },
   "outputs": [
    {
     "name": "stdout",
     "output_type": "stream",
     "text": [
      "\n",
      "Successfully created graph for FullyConnectedClassifier.\n",
      "Number of parameters (four bytes == 1 parameter): 2388711.\n",
      "\n",
      "INFO:tensorflow:Restoring parameters from saved_models/network_dense\\model.ckpt-13750\n",
      "Accuracy on test before fine-tuning: 0.10380000006407504, loss on test: 2.3186462426185614\n",
      "Starting epoch 1.\n",
      "\n"
     ]
    },
    {
     "name": "stderr",
     "output_type": "stream",
     "text": [
      "100%|███████████████████████████████████| 550/550 [00:05<00:00, 103.84it/s]\n"
     ]
    },
    {
     "name": "stdout",
     "output_type": "stream",
     "text": [
      "\n",
      "Epoch 1 completed.\n",
      "Accuracy on train: 0.09941818177700053, loss on train: 2.307634549140929\n",
      "Accuracy on validation: 0.09760000005364415, loss on validation: 2.3065967178344726\n",
      "Starting epoch 2.\n",
      "\n"
     ]
    },
    {
     "name": "stderr",
     "output_type": "stream",
     "text": [
      "100%|███████████████████████████████████| 550/550 [00:04<00:00, 121.26it/s]\n"
     ]
    },
    {
     "name": "stdout",
     "output_type": "stream",
     "text": [
      "\n",
      "Epoch 2 completed.\n",
      "Accuracy on train: 0.0985090909695085, loss on train: 2.303667237975383\n",
      "Accuracy on validation: 0.09760000061243776, loss on validation: 2.302557911872864\n",
      "Starting epoch 3.\n",
      "\n"
     ]
    },
    {
     "name": "stderr",
     "output_type": "stream",
     "text": [
      "100%|███████████████████████████████████| 550/550 [00:04<00:00, 121.79it/s]\n"
     ]
    },
    {
     "name": "stdout",
     "output_type": "stream",
     "text": [
      "\n",
      "Epoch 3 completed.\n",
      "Accuracy on train: 0.10056363623927962, loss on train: 2.301860252727163\n",
      "Accuracy on validation: 0.09760000005364416, loss on validation: 2.3013998842239376\n",
      "Starting epoch 4.\n",
      "\n"
     ]
    },
    {
     "name": "stderr",
     "output_type": "stream",
     "text": [
      "100%|███████████████████████████████████| 550/550 [00:04<00:00, 118.06it/s]\n"
     ]
    },
    {
     "name": "stdout",
     "output_type": "stream",
     "text": [
      "\n",
      "Epoch 4 completed.\n",
      "Accuracy on train: 0.1130909090658483, loss on train: 2.301687401424756\n",
      "Accuracy on validation: 0.11260000020265579, loss on validation: 2.3010151815414432\n",
      "Starting epoch 5.\n",
      "\n"
     ]
    },
    {
     "name": "stderr",
     "output_type": "stream",
     "text": [
      "100%|███████████████████████████████████| 550/550 [00:04<00:00, 121.34it/s]\n"
     ]
    },
    {
     "name": "stdout",
     "output_type": "stream",
     "text": [
      "\n",
      "Epoch 5 completed.\n",
      "Accuracy on train: 0.11363636342977948, loss on train: 2.301068778905001\n",
      "Accuracy on validation: 0.11259999923408033, loss on validation: 2.3008741426467902\n",
      "\n",
      "Optimization finished.\n",
      "Accuracy on test: 0.11280000001192086, loss on test: 2.3011200785636903\n"
     ]
    },
    {
     "data": {
      "image/png": "[encoded data removed]",
      "text/plain": [
       "<Figure size 720x504 with 1 Axes>"
      ]
     },
     "metadata": {},
     "output_type": "display_data"
    },
    {
     "data": {
      "image/png": "[encoded data removed]",
      "text/plain": [
       "<Figure size 720x504 with 1 Axes>"
      ]
     },
     "metadata": {},
     "output_type": "display_data"
    },
    {
     "data": {
      "image/png": "[encoded data removed]",
      "text/plain": [
       "<Figure size 720x504 with 1 Axes>"
      ]
     },
     "metadata": {},
     "output_type": "display_data"
    }
   ],
   "source": [
    "weightPruning(25)"
   ]
  },
  {
   "cell_type": "code",
   "execution_count": 77,
   "metadata": {
    "scrolled": true
   },
   "outputs": [
    {
     "name": "stdout",
     "output_type": "stream",
     "text": [
      "\n",
      "Successfully created graph for FullyConnectedClassifier.\n",
      "Number of parameters (four bytes == 1 parameter): 2388711.\n",
      "\n",
      "INFO:tensorflow:Restoring parameters from saved_models/network_dense\\model.ckpt-13750\n",
      "Accuracy on test before fine-tuning: 0.10319999970495705, loss on test: 2.319068796634674\n",
      "Starting epoch 1.\n",
      "\n"
     ]
    },
    {
     "name": "stderr",
     "output_type": "stream",
     "text": [
      "100%|███████████████████████████████████| 550/550 [00:05<00:00, 107.37it/s]\n"
     ]
    },
    {
     "name": "stdout",
     "output_type": "stream",
     "text": [
      "\n",
      "Epoch 1 completed.\n",
      "Accuracy on train: 0.09910909073596667, loss on train: 2.307703727808866\n",
      "Accuracy on validation: 0.09759999997913835, loss on validation: 2.3065706348419184\n",
      "Starting epoch 2.\n",
      "\n"
     ]
    },
    {
     "name": "stderr",
     "output_type": "stream",
     "text": [
      "100%|███████████████████████████████████| 550/550 [00:04<00:00, 122.28it/s]\n"
     ]
    },
    {
     "name": "stdout",
     "output_type": "stream",
     "text": [
      "\n",
      "Epoch 2 completed.\n",
      "Accuracy on train: 0.09918181791562938, loss on train: 2.303743435252797\n",
      "Accuracy on validation: 0.09760000016540289, loss on validation: 2.302485327720642\n",
      "Starting epoch 3.\n",
      "\n"
     ]
    },
    {
     "name": "stderr",
     "output_type": "stream",
     "text": [
      "100%|███████████████████████████████████| 550/550 [00:04<00:00, 120.49it/s]\n"
     ]
    },
    {
     "name": "stdout",
     "output_type": "stream",
     "text": [
      "\n",
      "Epoch 3 completed.\n",
      "Accuracy on train: 0.09943636365912199, loss on train: 2.302528026320718\n",
      "Accuracy on validation: 0.09760000012815, loss on validation: 2.3014092350006097\n",
      "Starting epoch 4.\n",
      "\n"
     ]
    },
    {
     "name": "stderr",
     "output_type": "stream",
     "text": [
      "100%|███████████████████████████████████| 550/550 [00:04<00:00, 120.09it/s]\n"
     ]
    },
    {
     "name": "stdout",
     "output_type": "stream",
     "text": [
      "\n",
      "Epoch 4 completed.\n",
      "Accuracy on train: 0.11265454534779919, loss on train: 2.3014737237583534\n",
      "Accuracy on validation: 0.11259999968111517, loss on validation: 2.3009588956832885\n",
      "Starting epoch 5.\n",
      "\n"
     ]
    },
    {
     "name": "stderr",
     "output_type": "stream",
     "text": [
      "100%|███████████████████████████████████| 550/550 [00:04<00:00, 120.28it/s]\n"
     ]
    },
    {
     "name": "stdout",
     "output_type": "stream",
     "text": [
      "\n",
      "Epoch 5 completed.\n",
      "Accuracy on train: 0.11296363617208893, loss on train: 2.3011949118700885\n",
      "Accuracy on validation: 0.11259999983012677, loss on validation: 2.300719542503356\n",
      "\n",
      "Optimization finished.\n",
      "Accuracy on test: 0.11279999975115058, loss on test: 2.3009941124916082\n"
     ]
    },
    {
     "data": {
      "image/png": "[encoded data removed]",
      "text/plain": [
       "<Figure size 720x504 with 1 Axes>"
      ]
     },
     "metadata": {},
     "output_type": "display_data"
    },
    {
     "data": {
      "image/png": "[encoded data removed]",
      "text/plain": [
       "<Figure size 720x504 with 1 Axes>"
      ]
     },
     "metadata": {},
     "output_type": "display_data"
    },
    {
     "data": {
      "image/png": "[encoded data removed]",
      "text/plain": [
       "<Figure size 720x504 with 1 Axes>"
      ]
     },
     "metadata": {},
     "output_type": "display_data"
    }
   ],
   "source": [
    "weightPruning(50)"
   ]
  },
  {
   "cell_type": "code",
   "execution_count": 78,
   "metadata": {},
   "outputs": [
    {
     "name": "stdout",
     "output_type": "stream",
     "text": [
      "\n",
      "Successfully created graph for FullyConnectedClassifier.\n",
      "Number of parameters (four bytes == 1 parameter): 2388711.\n",
      "\n",
      "INFO:tensorflow:Restoring parameters from saved_models/network_dense\\model.ckpt-13750\n",
      "Accuracy on test before fine-tuning: 0.1029000000655651, loss on test: 2.3187410044670114\n",
      "Starting epoch 1.\n",
      "\n"
     ]
    },
    {
     "name": "stderr",
     "output_type": "stream",
     "text": [
      "100%|███████████████████████████████████| 550/550 [00:04<00:00, 110.34it/s]\n"
     ]
    },
    {
     "name": "stdout",
     "output_type": "stream",
     "text": [
      "\n",
      "Epoch 1 completed.\n",
      "Accuracy on train: 0.10114545444195946, loss on train: 2.306973807161506\n",
      "Accuracy on validation: 0.09760000053793196, loss on validation: 2.306138916015625\n",
      "Starting epoch 2.\n",
      "\n"
     ]
    },
    {
     "name": "stderr",
     "output_type": "stream",
     "text": [
      "100%|███████████████████████████████████| 550/550 [00:04<00:00, 122.60it/s]\n"
     ]
    },
    {
     "name": "stdout",
     "output_type": "stream",
     "text": [
      "\n",
      "Epoch 2 completed.\n",
      "Accuracy on train: 0.10036363623359004, loss on train: 2.3029642395539716\n",
      "Accuracy on validation: 0.09759999983012675, loss on validation: 2.302217535972595\n",
      "Starting epoch 3.\n",
      "\n"
     ]
    },
    {
     "name": "stderr",
     "output_type": "stream",
     "text": [
      "100%|███████████████████████████████████| 550/550 [00:04<00:00, 123.48it/s]\n"
     ]
    },
    {
     "name": "stdout",
     "output_type": "stream",
     "text": [
      "\n",
      "Epoch 3 completed.\n",
      "Accuracy on train: 0.09852727269923159, loss on train: 2.3020152707533392\n",
      "Accuracy on validation: 0.09759999979287387, loss on validation: 2.30117434501648\n",
      "Starting epoch 4.\n",
      "\n"
     ]
    },
    {
     "name": "stderr",
     "output_type": "stream",
     "text": [
      "100%|███████████████████████████████████| 550/550 [00:04<00:00, 123.56it/s]\n"
     ]
    },
    {
     "name": "stdout",
     "output_type": "stream",
     "text": [
      "\n",
      "Epoch 4 completed.\n",
      "Accuracy on train: 0.11190909099849816, loss on train: 2.301599661220201\n",
      "Accuracy on validation: 0.11259999968111517, loss on validation: 2.300964288711548\n",
      "Starting epoch 5.\n",
      "\n"
     ]
    },
    {
     "name": "stderr",
     "output_type": "stream",
     "text": [
      "100%|███████████████████████████████████| 550/550 [00:04<00:00, 124.18it/s]\n"
     ]
    },
    {
     "name": "stdout",
     "output_type": "stream",
     "text": [
      "\n",
      "Epoch 5 completed.\n",
      "Accuracy on train: 0.11298181810839628, loss on train: 2.301055056832058\n",
      "Accuracy on validation: 0.11259999975562093, loss on validation: 2.3008406686782834\n",
      "\n",
      "Optimization finished.\n",
      "Accuracy on test: 0.11320000022649765, loss on test: 2.3010564684867867\n"
     ]
    },
    {
     "data": {
      "image/png": "[encoded data removed]",
      "text/plain": [
       "<Figure size 720x504 with 1 Axes>"
      ]
     },
     "metadata": {},
     "output_type": "display_data"
    },
    {
     "data": {
      "image/png": "[encoded data removed]",
      "text/plain": [
       "<Figure size 720x504 with 1 Axes>"
      ]
     },
     "metadata": {},
     "output_type": "display_data"
    },
    {
     "data": {
      "image/png": "[encoded data removed]",
      "text/plain": [
       "<Figure size 720x504 with 1 Axes>"
      ]
     },
     "metadata": {},
     "output_type": "display_data"
    }
   ],
   "source": [
    "#60, 70, 80, 90, 95, 97, 99\n",
    "weightPruning(60)"
   ]
  },
  {
   "cell_type": "code",
   "execution_count": 79,
   "metadata": {
    "scrolled": false
   },
   "outputs": [
    {
     "name": "stdout",
     "output_type": "stream",
     "text": [
      "\n",
      "Successfully created graph for FullyConnectedClassifier.\n",
      "Number of parameters (four bytes == 1 parameter): 2388711.\n",
      "\n",
      "INFO:tensorflow:Restoring parameters from saved_models/network_dense\\model.ckpt-13750\n",
      "Accuracy on test before fine-tuning: 0.1033000002428889, loss on test: 2.3185276246070865\n",
      "Starting epoch 1.\n",
      "\n"
     ]
    },
    {
     "name": "stderr",
     "output_type": "stream",
     "text": [
      "100%|███████████████████████████████████| 550/550 [00:04<00:00, 110.67it/s]\n"
     ]
    },
    {
     "name": "stdout",
     "output_type": "stream",
     "text": [
      "\n",
      "Epoch 1 completed.\n",
      "Accuracy on train: 0.10058181796222937, loss on train: 2.307131782011554\n",
      "Accuracy on validation: 0.09760000057518482, loss on validation: 2.3062360525131225\n",
      "Starting epoch 2.\n",
      "\n"
     ]
    },
    {
     "name": "stderr",
     "output_type": "stream",
     "text": [
      "100%|███████████████████████████████████| 550/550 [00:04<00:00, 123.62it/s]\n"
     ]
    },
    {
     "name": "stdout",
     "output_type": "stream",
     "text": [
      "\n",
      "Epoch 2 completed.\n",
      "Accuracy on train: 0.09865454553541823, loss on train: 2.3034694450551814\n",
      "Accuracy on validation: 0.0976000001654029, loss on validation: 2.302529692649842\n",
      "Starting epoch 3.\n",
      "\n"
     ]
    },
    {
     "name": "stderr",
     "output_type": "stream",
     "text": [
      "100%|███████████████████████████████████| 550/550 [00:04<00:00, 123.76it/s]\n"
     ]
    },
    {
     "name": "stdout",
     "output_type": "stream",
     "text": [
      "\n",
      "Epoch 3 completed.\n",
      "Accuracy on train: 0.09847272738475718, loss on train: 2.302092574726451\n",
      "Accuracy on validation: 0.0976000002399087, loss on validation: 2.301285586357117\n",
      "Starting epoch 4.\n",
      "\n"
     ]
    },
    {
     "name": "stderr",
     "output_type": "stream",
     "text": [
      "100%|███████████████████████████████████| 550/550 [00:04<00:00, 124.01it/s]\n"
     ]
    },
    {
     "name": "stdout",
     "output_type": "stream",
     "text": [
      "\n",
      "Epoch 4 completed.\n",
      "Accuracy on train: 0.11456363639709646, loss on train: 2.3014774456891143\n",
      "Accuracy on validation: 0.11259999997913836, loss on validation: 2.3010173797607414\n",
      "Starting epoch 5.\n",
      "\n"
     ]
    },
    {
     "name": "stderr",
     "output_type": "stream",
     "text": [
      "100%|███████████████████████████████████| 550/550 [00:04<00:00, 123.87it/s]\n"
     ]
    },
    {
     "name": "stdout",
     "output_type": "stream",
     "text": [
      "\n",
      "Epoch 5 completed.\n",
      "Accuracy on train: 0.11338181814009511, loss on train: 2.3010770290548126\n",
      "Accuracy on validation: 0.1126000002026558, loss on validation: 2.3008922243118275\n",
      "\n",
      "Optimization finished.\n",
      "Accuracy on test: 0.11339999973773952, loss on test: 2.3011660504341114\n"
     ]
    },
    {
     "data": {
      "image/png": "[encoded data removed]",
      "text/plain": [
       "<Figure size 720x504 with 1 Axes>"
      ]
     },
     "metadata": {},
     "output_type": "display_data"
    },
    {
     "data": {
      "image/png": "[encoded data removed]",
      "text/plain": [
       "<Figure size 720x504 with 1 Axes>"
      ]
     },
     "metadata": {},
     "output_type": "display_data"
    },
    {
     "data": {
      "image/png": "[encoded data removed]",
      "text/plain": [
       "<Figure size 720x504 with 1 Axes>"
      ]
     },
     "metadata": {},
     "output_type": "display_data"
    }
   ],
   "source": [
    "weightPruning(70)"
   ]
  },
  {
   "cell_type": "code",
   "execution_count": 80,
   "metadata": {
    "scrolled": false
   },
   "outputs": [
    {
     "name": "stdout",
     "output_type": "stream",
     "text": [
      "\n",
      "Successfully created graph for FullyConnectedClassifier.\n",
      "Number of parameters (four bytes == 1 parameter): 2388711.\n",
      "\n",
      "INFO:tensorflow:Restoring parameters from saved_models/network_dense\\model.ckpt-13750\n",
      "Accuracy on test before fine-tuning: 0.10360000032931567, loss on test: 2.3183759069442758\n",
      "Starting epoch 1.\n",
      "\n"
     ]
    },
    {
     "name": "stderr",
     "output_type": "stream",
     "text": [
      "100%|███████████████████████████████████| 550/550 [00:04<00:00, 110.76it/s]\n"
     ]
    },
    {
     "name": "stdout",
     "output_type": "stream",
     "text": [
      "\n",
      "Epoch 1 completed.\n",
      "Accuracy on train: 0.09856363621286396, loss on train: 2.308188788240605\n",
      "Accuracy on validation: 0.09759999945759772, loss on validation: 2.306483564376831\n",
      "Starting epoch 2.\n",
      "\n"
     ]
    },
    {
     "name": "stderr",
     "output_type": "stream",
     "text": [
      "100%|███████████████████████████████████| 550/550 [00:04<00:00, 123.59it/s]\n"
     ]
    },
    {
     "name": "stdout",
     "output_type": "stream",
     "text": [
      "\n",
      "Epoch 2 completed.\n",
      "Accuracy on train: 0.10076363636011444, loss on train: 2.3036298595775255\n",
      "Accuracy on validation: 0.09759999994188544, loss on validation: 2.3024890041351327\n",
      "Starting epoch 3.\n",
      "\n"
     ]
    },
    {
     "name": "stderr",
     "output_type": "stream",
     "text": [
      "100%|███████████████████████████████████| 550/550 [00:04<00:00, 123.68it/s]\n"
     ]
    },
    {
     "name": "stdout",
     "output_type": "stream",
     "text": [
      "\n",
      "Epoch 3 completed.\n",
      "Accuracy on train: 0.1119090907783672, loss on train: 2.3020958636023794\n",
      "Accuracy on validation: 0.11259999953210352, loss on validation: 2.3011707210540764\n",
      "Starting epoch 4.\n",
      "\n"
     ]
    },
    {
     "name": "stderr",
     "output_type": "stream",
     "text": [
      "100%|███████████████████████████████████| 550/550 [00:04<00:00, 123.65it/s]\n"
     ]
    },
    {
     "name": "stdout",
     "output_type": "stream",
     "text": [
      "\n",
      "Epoch 4 completed.\n",
      "Accuracy on train: 0.11101818205280758, loss on train: 2.301423178152607\n",
      "Accuracy on validation: 0.11259999975562092, loss on validation: 2.300836138725281\n",
      "Starting epoch 5.\n",
      "\n"
     ]
    },
    {
     "name": "stderr",
     "output_type": "stream",
     "text": [
      "100%|███████████████████████████████████| 550/550 [00:04<00:00, 124.07it/s]\n"
     ]
    },
    {
     "name": "stdout",
     "output_type": "stream",
     "text": [
      "\n",
      "Epoch 5 completed.\n",
      "Accuracy on train: 0.11261818165806221, loss on train: 2.3012382563677716\n",
      "Accuracy on validation: 0.11259999990463254, loss on validation: 2.3008382177352904\n",
      "\n",
      "Optimization finished.\n",
      "Accuracy on test: 0.11409999996423718, loss on test: 2.3009668207168574\n"
     ]
    },
    {
     "data": {
      "image/png": "[encoded data removed]",
      "text/plain": [
       "<Figure size 720x504 with 1 Axes>"
      ]
     },
     "metadata": {},
     "output_type": "display_data"
    },
    {
     "data": {
      "image/png": "[encoded data removed]",
      "text/plain": [
       "<Figure size 720x504 with 1 Axes>"
      ]
     },
     "metadata": {},
     "output_type": "display_data"
    },
    {
     "data": {
      "image/png": "[encoded data removed]",
      "text/plain": [
       "<Figure size 720x504 with 1 Axes>"
      ]
     },
     "metadata": {},
     "output_type": "display_data"
    }
   ],
   "source": [
    "weightPruning(80)"
   ]
  },
  {
   "cell_type": "code",
   "execution_count": 81,
   "metadata": {
    "scrolled": false
   },
   "outputs": [
    {
     "name": "stdout",
     "output_type": "stream",
     "text": [
      "\n",
      "Successfully created graph for FullyConnectedClassifier.\n",
      "Number of parameters (four bytes == 1 parameter): 2388711.\n",
      "\n",
      "INFO:tensorflow:Restoring parameters from saved_models/network_dense\\model.ckpt-13750\n",
      "Accuracy on test before fine-tuning: 0.10239999981597066, loss on test: 2.3188883519172676\n",
      "Starting epoch 1.\n",
      "\n"
     ]
    },
    {
     "name": "stderr",
     "output_type": "stream",
     "text": [
      "100%|███████████████████████████████████| 550/550 [00:04<00:00, 126.30it/s]\n"
     ]
    },
    {
     "name": "stdout",
     "output_type": "stream",
     "text": [
      "\n",
      "Epoch 1 completed.\n",
      "Accuracy on train: 0.09999999992210776, loss on train: 2.307912505756725\n",
      "Accuracy on validation: 0.09759999971836807, loss on validation: 2.306452217102051\n",
      "Starting epoch 2.\n",
      "\n"
     ]
    },
    {
     "name": "stderr",
     "output_type": "stream",
     "text": [
      "100%|███████████████████████████████████| 550/550 [00:04<00:00, 123.70it/s]\n"
     ]
    },
    {
     "name": "stdout",
     "output_type": "stream",
     "text": [
      "\n",
      "Epoch 2 completed.\n",
      "Accuracy on train: 0.10043636344711913, loss on train: 2.303314971490342\n",
      "Accuracy on validation: 0.09760000064969064, loss on validation: 2.302471132278442\n",
      "Starting epoch 3.\n",
      "\n"
     ]
    },
    {
     "name": "stderr",
     "output_type": "stream",
     "text": [
      "100%|███████████████████████████████████| 550/550 [00:04<00:00, 123.79it/s]\n"
     ]
    },
    {
     "name": "stdout",
     "output_type": "stream",
     "text": [
      "\n",
      "Epoch 3 completed.\n",
      "Accuracy on train: 0.09974545451050468, loss on train: 2.3020139542492943\n",
      "Accuracy on validation: 0.09759999975562098, loss on validation: 2.301237006187439\n",
      "Starting epoch 4.\n",
      "\n"
     ]
    },
    {
     "name": "stderr",
     "output_type": "stream",
     "text": [
      "100%|███████████████████████████████████| 550/550 [00:04<00:00, 127.76it/s]\n"
     ]
    },
    {
     "name": "stdout",
     "output_type": "stream",
     "text": [
      "\n",
      "Epoch 4 completed.\n",
      "Accuracy on train: 0.11190909058194302, loss on train: 2.30160201246088\n",
      "Accuracy on validation: 0.11259999975562095, loss on validation: 2.3008723831176754\n",
      "Starting epoch 5.\n",
      "\n"
     ]
    },
    {
     "name": "stderr",
     "output_type": "stream",
     "text": [
      "100%|███████████████████████████████████| 550/550 [00:04<00:00, 123.84it/s]\n"
     ]
    },
    {
     "name": "stdout",
     "output_type": "stream",
     "text": [
      "\n",
      "Epoch 5 completed.\n",
      "Accuracy on train: 0.11338181803510979, loss on train: 2.3011983520334396\n",
      "Accuracy on validation: 0.11259999960660932, loss on validation: 2.3007632589340203\n",
      "\n",
      "Optimization finished.\n",
      "Accuracy on test: 0.11300000011920926, loss on test: 2.301045680046081\n"
     ]
    },
    {
     "data": {
      "image/png": "[encoded data removed]",
      "text/plain": [
       "<Figure size 720x504 with 1 Axes>"
      ]
     },
     "metadata": {},
     "output_type": "display_data"
    },
    {
     "data": {
      "image/png": "[encoded data removed]",
      "text/plain": [
       "<Figure size 720x504 with 1 Axes>"
      ]
     },
     "metadata": {},
     "output_type": "display_data"
    },
    {
     "data": {
      "image/png": "[encoded data removed]",
      "text/plain": [
       "<Figure size 720x504 with 1 Axes>"
      ]
     },
     "metadata": {},
     "output_type": "display_data"
    }
   ],
   "source": [
    "weightPruning(90)"
   ]
  },
  {
   "cell_type": "code",
   "execution_count": 82,
   "metadata": {
    "scrolled": false
   },
   "outputs": [
    {
     "name": "stdout",
     "output_type": "stream",
     "text": [
      "\n",
      "Successfully created graph for FullyConnectedClassifier.\n",
      "Number of parameters (four bytes == 1 parameter): 2388711.\n",
      "\n",
      "INFO:tensorflow:Restoring parameters from saved_models/network_dense\\model.ckpt-13750\n",
      "Accuracy on test before fine-tuning: 0.10310000015422703, loss on test: 2.318550798892975\n",
      "Starting epoch 1.\n",
      "\n"
     ]
    },
    {
     "name": "stderr",
     "output_type": "stream",
     "text": [
      "100%|███████████████████████████████████| 550/550 [00:04<00:00, 110.51it/s]\n"
     ]
    },
    {
     "name": "stdout",
     "output_type": "stream",
     "text": [
      "\n",
      "Epoch 1 completed.\n",
      "Accuracy on train: 0.09950909071009297, loss on train: 2.307731161984531\n",
      "Accuracy on validation: 0.09759999971836805, loss on validation: 2.3065222072601324\n",
      "Starting epoch 2.\n",
      "\n"
     ]
    },
    {
     "name": "stderr",
     "output_type": "stream",
     "text": [
      "100%|███████████████████████████████████| 550/550 [00:04<00:00, 123.18it/s]\n"
     ]
    },
    {
     "name": "stdout",
     "output_type": "stream",
     "text": [
      "\n",
      "Epoch 2 completed.\n",
      "Accuracy on train: 0.10025454538789678, loss on train: 2.303142037391662\n",
      "Accuracy on validation: 0.09760000064969067, loss on validation: 2.3023920822143555\n",
      "Starting epoch 3.\n",
      "\n"
     ]
    },
    {
     "name": "stderr",
     "output_type": "stream",
     "text": [
      "100%|███████████████████████████████████| 550/550 [00:04<00:00, 127.27it/s]\n"
     ]
    },
    {
     "name": "stdout",
     "output_type": "stream",
     "text": [
      "\n",
      "Epoch 3 completed.\n",
      "Accuracy on train: 0.09876363618807378, loss on train: 2.3019373278184387\n",
      "Accuracy on validation: 0.09759999979287386, loss on validation: 2.301166996955872\n",
      "Starting epoch 4.\n",
      "\n"
     ]
    },
    {
     "name": "stderr",
     "output_type": "stream",
     "text": [
      "100%|███████████████████████████████████| 550/550 [00:04<00:00, 123.26it/s]\n"
     ]
    },
    {
     "name": "stdout",
     "output_type": "stream",
     "text": [
      "\n",
      "Epoch 4 completed.\n",
      "Accuracy on train: 0.11092727287249157, loss on train: 2.3013567517020466\n",
      "Accuracy on validation: 0.11259999968111517, loss on validation: 2.3008287668228156\n",
      "Starting epoch 5.\n",
      "\n"
     ]
    },
    {
     "name": "stderr",
     "output_type": "stream",
     "text": [
      "100%|███████████████████████████████████| 550/550 [00:04<00:00, 122.58it/s]\n"
     ]
    },
    {
     "name": "stdout",
     "output_type": "stream",
     "text": [
      "\n",
      "Epoch 5 completed.\n",
      "Accuracy on train: 0.11389090904119367, loss on train: 2.300960814736105\n",
      "Accuracy on validation: 0.11259999983012675, loss on validation: 2.300745720863342\n",
      "\n",
      "Optimization finished.\n",
      "Accuracy on test: 0.11310000021010634, loss on test: 2.301164679527283\n"
     ]
    },
    {
     "data": {
      "image/png": "[encoded data removed]",
      "text/plain": [
       "<Figure size 720x504 with 1 Axes>"
      ]
     },
     "metadata": {},
     "output_type": "display_data"
    },
    {
     "data": {
      "image/png": "[encoded data removed]",
      "text/plain": [
       "<Figure size 720x504 with 1 Axes>"
      ]
     },
     "metadata": {},
     "output_type": "display_data"
    },
    {
     "data": {
      "image/png": "[encoded data removed]",
      "text/plain": [
       "<Figure size 720x504 with 1 Axes>"
      ]
     },
     "metadata": {},
     "output_type": "display_data"
    }
   ],
   "source": [
    "weightPruning(95)"
   ]
  },
  {
   "cell_type": "code",
   "execution_count": 83,
   "metadata": {
    "scrolled": false
   },
   "outputs": [
    {
     "name": "stdout",
     "output_type": "stream",
     "text": [
      "\n",
      "Successfully created graph for FullyConnectedClassifier.\n",
      "Number of parameters (four bytes == 1 parameter): 2388711.\n",
      "\n",
      "INFO:tensorflow:Restoring parameters from saved_models/network_dense\\model.ckpt-13750\n",
      "Accuracy on test before fine-tuning: 0.10300000026822094, loss on test: 2.3183724260330205\n",
      "Starting epoch 1.\n",
      "\n"
     ]
    },
    {
     "name": "stderr",
     "output_type": "stream",
     "text": [
      "100%|███████████████████████████████████| 550/550 [00:04<00:00, 110.45it/s]\n"
     ]
    },
    {
     "name": "stdout",
     "output_type": "stream",
     "text": [
      "\n",
      "Epoch 1 completed.\n",
      "Accuracy on train: 0.09789090929383594, loss on train: 2.308834009604021\n",
      "Accuracy on validation: 0.09759999997913835, loss on validation: 2.3066493558883665\n",
      "Starting epoch 2.\n",
      "\n"
     ]
    },
    {
     "name": "stderr",
     "output_type": "stream",
     "text": [
      "100%|███████████████████████████████████| 550/550 [00:04<00:00, 123.68it/s]\n"
     ]
    },
    {
     "name": "stdout",
     "output_type": "stream",
     "text": [
      "\n",
      "Epoch 2 completed.\n",
      "Accuracy on train: 0.09967272730036231, loss on train: 2.303409560810435\n",
      "Accuracy on validation: 0.09759999971836805, loss on validation: 2.3026437711715695\n",
      "Starting epoch 3.\n",
      "\n"
     ]
    },
    {
     "name": "stderr",
     "output_type": "stream",
     "text": [
      "100%|███████████████████████████████████| 550/550 [00:04<00:00, 123.43it/s]\n"
     ]
    },
    {
     "name": "stdout",
     "output_type": "stream",
     "text": [
      "\n",
      "Epoch 3 completed.\n",
      "Accuracy on train: 0.09861818189309425, loss on train: 2.3023471650210294\n",
      "Accuracy on validation: 0.09759999971836804, loss on validation: 2.3014179944992064\n",
      "Starting epoch 4.\n",
      "\n"
     ]
    },
    {
     "name": "stderr",
     "output_type": "stream",
     "text": [
      "100%|███████████████████████████████████| 550/550 [00:04<00:00, 123.18it/s]\n"
     ]
    },
    {
     "name": "stdout",
     "output_type": "stream",
     "text": [
      "\n",
      "Epoch 4 completed.\n",
      "Accuracy on train: 0.11298181809146321, loss on train: 2.3014846459302043\n",
      "Accuracy on validation: 0.11260000020265579, loss on validation: 2.3009859704971305\n",
      "Starting epoch 5.\n",
      "\n"
     ]
    },
    {
     "name": "stderr",
     "output_type": "stream",
     "text": [
      "100%|███████████████████████████████████| 550/550 [00:04<00:00, 129.19it/s]\n"
     ]
    },
    {
     "name": "stdout",
     "output_type": "stream",
     "text": [
      "\n",
      "Epoch 5 completed.\n",
      "Accuracy on train: 0.1130909089303832, loss on train: 2.301362900300461\n",
      "Accuracy on validation: 0.11260000020265576, loss on validation: 2.3007855606079106\n",
      "\n",
      "Optimization finished.\n",
      "Accuracy on test: 0.11339999960735439, loss on test: 2.3010857057571403\n"
     ]
    },
    {
     "data": {
      "image/png": "[encoded data removed]",
      "text/plain": [
       "<Figure size 720x504 with 1 Axes>"
      ]
     },
     "metadata": {},
     "output_type": "display_data"
    },
    {
     "data": {
      "image/png": "[encoded data removed]",
      "text/plain": [
       "<Figure size 720x504 with 1 Axes>"
      ]
     },
     "metadata": {},
     "output_type": "display_data"
    },
    {
     "data": {
      "image/png": "[encoded data removed]",
      "text/plain": [
       "<Figure size 720x504 with 1 Axes>"
      ]
     },
     "metadata": {},
     "output_type": "display_data"
    }
   ],
   "source": [
    "weightPruning(97)"
   ]
  },
  {
   "cell_type": "code",
   "execution_count": 84,
   "metadata": {
    "scrolled": false
   },
   "outputs": [
    {
     "name": "stdout",
     "output_type": "stream",
     "text": [
      "\n",
      "Successfully created graph for FullyConnectedClassifier.\n",
      "Number of parameters (four bytes == 1 parameter): 2388711.\n",
      "\n",
      "INFO:tensorflow:Restoring parameters from saved_models/network_dense\\model.ckpt-13750\n",
      "Accuracy on test before fine-tuning: 0.10319999992847448, loss on test: 2.31901231765747\n",
      "Starting epoch 1.\n",
      "\n"
     ]
    },
    {
     "name": "stderr",
     "output_type": "stream",
     "text": [
      "100%|███████████████████████████████████| 550/550 [00:04<00:00, 110.38it/s]\n"
     ]
    },
    {
     "name": "stdout",
     "output_type": "stream",
     "text": [
      "\n",
      "Epoch 1 completed.\n",
      "Accuracy on train: 0.09805454555221592, loss on train: 2.308829254670575\n",
      "Accuracy on validation: 0.09759999994188549, loss on validation: 2.3067320442199715\n",
      "Starting epoch 2.\n",
      "\n"
     ]
    },
    {
     "name": "stderr",
     "output_type": "stream",
     "text": [
      "100%|███████████████████████████████████| 550/550 [00:04<00:00, 123.65it/s]\n"
     ]
    },
    {
     "name": "stdout",
     "output_type": "stream",
     "text": [
      "\n",
      "Epoch 2 completed.\n",
      "Accuracy on train: 0.09761818168515532, loss on train: 2.3038199489766926\n",
      "Accuracy on validation: 0.09759999968111514, loss on validation: 2.3027407693862916\n",
      "Starting epoch 3.\n",
      "\n"
     ]
    },
    {
     "name": "stderr",
     "output_type": "stream",
     "text": [
      "100%|███████████████████████████████████| 550/550 [00:04<00:00, 123.40it/s]\n"
     ]
    },
    {
     "name": "stdout",
     "output_type": "stream",
     "text": [
      "\n",
      "Epoch 3 completed.\n",
      "Accuracy on train: 0.09907272714782873, loss on train: 2.3022418009151147\n",
      "Accuracy on validation: 0.09760000005364419, loss on validation: 2.3013114118576055\n",
      "Starting epoch 4.\n",
      "\n"
     ]
    },
    {
     "name": "stderr",
     "output_type": "stream",
     "text": [
      "100%|███████████████████████████████████| 550/550 [00:04<00:00, 122.96it/s]\n"
     ]
    },
    {
     "name": "stdout",
     "output_type": "stream",
     "text": [
      "\n",
      "Epoch 4 completed.\n",
      "Accuracy on train: 0.11369090898470477, loss on train: 2.3016525415940703\n",
      "Accuracy on validation: 0.11259999968111516, loss on validation: 2.3009027242660527\n",
      "Starting epoch 5.\n",
      "\n"
     ]
    },
    {
     "name": "stderr",
     "output_type": "stream",
     "text": [
      "100%|███████████████████████████████████| 550/550 [00:04<00:00, 123.70it/s]\n"
     ]
    },
    {
     "name": "stdout",
     "output_type": "stream",
     "text": [
      "\n",
      "Epoch 5 completed.\n",
      "Accuracy on train: 0.11347272693094908, loss on train: 2.30159359628504\n",
      "Accuracy on validation: 0.1125999999046326, loss on validation: 2.30077832698822\n",
      "\n",
      "Optimization finished.\n",
      "Accuracy on test: 0.11319999963045115, loss on test: 2.300955801010131\n"
     ]
    },
    {
     "data": {
      "image/png": "[encoded data removed]",
      "text/plain": [
       "<Figure size 720x504 with 1 Axes>"
      ]
     },
     "metadata": {},
     "output_type": "display_data"
    },
    {
     "data": {
      "image/png": "[encoded data removed]",
      "text/plain": [
       "<Figure size 720x504 with 1 Axes>"
      ]
     },
     "metadata": {},
     "output_type": "display_data"
    },
    {
     "data": {
      "image/png": "[encoded data removed]",
      "text/plain": [
       "<Figure size 720x504 with 1 Axes>"
      ]
     },
     "metadata": {},
     "output_type": "display_data"
    }
   ],
   "source": [
    "weightPruning(99)"
   ]
  },
  {
   "cell_type": "code",
   "execution_count": 20,
   "metadata": {},
   "outputs": [],
   "source": [
    "class FullyConnectedClassifierSparse(FullyConnectedClassifier):\n",
    "\n",
    "    def __init__(self,\n",
    "                 input_size: int,\n",
    "                 n_classes: int,\n",
    "                 sparse_layers: list,\n",
    "                 model_path: str,\n",
    "                 activation_fn=tf.nn.relu,\n",
    "                 scope='FullyConnectedClassifierSparse',\n",
    "                 verbose=True):\n",
    "\n",
    "        self.input_size = input_size\n",
    "        self.n_classes = n_classes\n",
    "        self.sparse_layers = sparse_layers\n",
    "        self.model_path = model_path\n",
    "        self.activation_fn = activation_fn\n",
    "        self.scope = scope\n",
    "        self.verbose = verbose\n",
    "\n",
    "        self.graph = tf.Graph()\n",
    "        with self.graph.as_default():\n",
    "            with tf.variable_scope(self.scope):\n",
    "\n",
    "                self._create_placeholders()\n",
    "\n",
    "                self.logits = self._build_network(inputs=self.inputs,\n",
    "                                                  sparse_layers=self.sparse_layers,\n",
    "                                                  activation_fn=self.activation_fn)\n",
    "\n",
    "                self.loss = self._create_loss(logits=self.logits,\n",
    "                                              labels=self.labels)\n",
    "\n",
    "                self._create_metrics(logits=self.logits,\n",
    "                                     labels=self.labels,\n",
    "                                     loss=self.loss)\n",
    "\n",
    "                self.saver = self._create_saver(tf.global_variables())\n",
    "                self.init_variables(tf.global_variables())\n",
    "\n",
    "                if self.verbose:\n",
    "                    print('\\nSuccessfully created graph for {model}.'.format(\n",
    "                                                            model=self.scope))\n",
    "                    print('Number of parameters (four bytes == 1 parameter): {}.\\n'.format(\n",
    "                         calculate_number_of_sparse_parameters(\n",
    "                                                            self.sparse_layers)))\n",
    "\n",
    "    def _create_placeholders(self):\n",
    "    \n",
    "        self.inputs = tf.placeholder(dtype=tf.float32,\n",
    "                                     shape=(None, self.input_size),\n",
    "                                     name='inputs')\n",
    "    \n",
    "        self.labels = tf.placeholder(dtype=tf.int64,\n",
    "                                     shape=None,\n",
    "                                     name='labels')\n",
    "\n",
    "        # for compatibility with dense model\n",
    "        self.keep_prob = tf.placeholder(dtype=tf.float32,\n",
    "                                        shape=(),\n",
    "                                        name='keep_prob')\n",
    "\n",
    "    def _build_network(self,\n",
    "                       inputs: tf.Tensor,\n",
    "                       sparse_layers: list,\n",
    "                       activation_fn: callable) -> tf.Tensor:\n",
    "    \n",
    "        with tf.variable_scope('network'):\n",
    "    \n",
    "            net = inputs\n",
    "    \n",
    "            self.weight_tensors = []\n",
    "\n",
    "            bias_initializer = tf.constant_initializer(0.1)\n",
    "\n",
    "            for i, layer in enumerate(sparse_layers):\n",
    "    \n",
    "                with tf.variable_scope('layer_{layer}'.format(layer=i+1)):\n",
    "\n",
    "                    # create variables based on sparse values                    \n",
    "                    with tf.variable_scope('sparse'):\n",
    "\n",
    "                        indicies = tf.get_variable(name='indicies',\n",
    "                                                   initializer=layer.indices,\n",
    "                                                   dtype=tf.int16)\n",
    "\n",
    "                        values = tf.get_variable(name='values',\n",
    "                                                 initializer=layer.values,\n",
    "                                                 dtype=tf.float32)\n",
    "\n",
    "                        dense_shape = tf.get_variable(name='dense_shape',\n",
    "                                                      initializer=layer.dense_shape,\n",
    "                                                      dtype=tf.int64)\n",
    "\n",
    "                    # create a weight tensor based on the created variables\n",
    "                    weights = tf.sparse_to_dense(tf.cast(indicies, tf.int64),\n",
    "                                                 dense_shape,\n",
    "                                                 values)\n",
    "\n",
    "                    self.weight_tensors.append(weights)\n",
    "        \n",
    "                    name = 'bias'\n",
    "                    bias = tf.get_variable(name=name,\n",
    "                                           initializer=layer.bias)\n",
    "    \n",
    "                    net = tf.matmul(net, weights) + bias\n",
    "    \n",
    "                    if i < len(sparse_layers) - 1:\n",
    "                        net = activation_fn(net)\n",
    "    \n",
    "            return net\n",
    "\n",
    "    def _create_loss(self,\n",
    "                     logits: tf.Tensor,\n",
    "                     labels: tf.Tensor) -> tf.Tensor:\n",
    "    \n",
    "        with tf.variable_scope('loss'):\n",
    "            classification_loss = tf.nn.sparse_softmax_cross_entropy_with_logits(\n",
    "                                            logits=logits, labels=labels,\n",
    "                                            name='classification_loss')\n",
    "    \n",
    "            classification_loss = tf.reduce_mean(classification_loss,\n",
    "                                                 name='classification_loss_averaged')\n",
    "\n",
    "        return classification_loss"
   ]
  },
  {
   "cell_type": "markdown",
   "metadata": {},
   "source": [
    "# Unit/Neuron Pruning"
   ]
  },
  {
   "cell_type": "code",
   "execution_count": 66,
   "metadata": {},
   "outputs": [],
   "source": [
    "def get_sparse_values_indices_k(weights,k):\n",
    "    k_len = len(weights)\n",
    "    k_len = int(k_len * k)\n",
    "    weights[0:k_len] = 0\n",
    "    values = weights[weights != 0]\n",
    "    indices = np.transpose(np.nonzero(weights))\n",
    "    return values, indices"
   ]
  },
  {
   "cell_type": "code",
   "execution_count": 67,
   "metadata": {},
   "outputs": [
    {
     "name": "stdout",
     "output_type": "stream",
     "text": [
      "\n",
      "Successfully created graph for FullyConnectedClassifier.\n",
      "Number of parameters (four bytes == 1 parameter): 2388711.\n",
      "\n",
      "INFO:tensorflow:Restoring parameters from saved_models/network_dense_pruned\\model.ckpt-24750\n",
      "Accuracy on test with dense model (pruned): 0.6771999984979632, loss on test: 0.987368630170822\n",
      "\n",
      "Successfully created graph for FullyConnectedClassifierSparse.\n",
      "Number of parameters (four bytes == 1 parameter): 73190.\n",
      "\n",
      "Accuracy on test with sparse model: 0.6777000010013583, loss on test: 0.9738495826721194\n"
     ]
    }
   ],
   "source": [
    "def PruningExample(k):\n",
    "    classifier = FullyConnectedClassifier(\n",
    "                                input_size=ConfigNetworkDensePruned.input_size,\n",
    "                                n_classes=ConfigNetworkDensePruned.n_classes,\n",
    "                                layer_sizes=ConfigNetworkDensePruned.layer_sizes,\n",
    "                                model_path=ConfigNetworkDensePruned.model_path,\n",
    "                                dropout=ConfigNetworkDensePruned.dropout,\n",
    "                                weight_decay=ConfigNetworkDensePruned.weight_decay,\n",
    "                                activation_fn=ConfigNetworkDensePruned.activation_fn,\n",
    "                                pruning_threshold=ConfigNetworkDensePruned.pruning_threshold)\n",
    "    # restore a model\n",
    "    classifier.load_model()\n",
    "\n",
    "    accuracy, loss = classifier.evaluate(data_provider=test_data_provider,\n",
    "                                         batch_size=ConfigNetworkDensePruned.batch_size)\n",
    "    print('Accuracy on test with dense model (pruned): {accuracy}, loss on test: {loss}'.format(\n",
    "                                                       accuracy=accuracy, loss=loss))\n",
    "\n",
    "    weight_matrices, biases = classifier.sess.run([classifier.weight_matrices,\n",
    "                                                   classifier.biases])\n",
    "    sparse_layers = []\n",
    "    # turn dense pruned weights into sparse indices and values\n",
    "    for weights, bias in zip(weight_matrices, biases):\n",
    "\n",
    "        if(len(weights[0])!=10):\n",
    "            values, indices =  get_sparse_values_indices_k(weights,k)\n",
    "        else:\n",
    "            values, indices =  get_sparse_values_indices_k(weights,0)\n",
    "        shape = np.array(weights.shape).astype(np.int64)\n",
    "        sparse_layers.append( SparseLayer(values=values.astype(np.float32),\n",
    "                                                       indices=indices.astype(np.int16),\n",
    "                                                       dense_shape=shape,\n",
    "                                                       bias=bias))\n",
    "\n",
    "    # create sparse classifier\n",
    "    sparse_classifier = FullyConnectedClassifierSparse(\n",
    "                                input_size=ConfigNetworkSparse.input_size,\n",
    "                                n_classes=ConfigNetworkSparse.n_classes,\n",
    "                                sparse_layers=sparse_layers,\n",
    "                                model_path=ConfigNetworkSparse.model_path,\n",
    "                                activation_fn=ConfigNetworkSparse.activation_fn)\n",
    "\n",
    "    # test sparse classifier\n",
    "    accuracy, loss = sparse_classifier.evaluate(data_provider=test_data_provider,\n",
    "                                                batch_size=ConfigNetworkSparse.batch_size)\n",
    "    print('Accuracy on test with sparse model: {accuracy}, loss on test: {loss}'.format(\n",
    "                                                       accuracy=accuracy, loss=loss))\n",
    "\n",
    "    # finally, save a sparse model\n",
    "    sparse_classifier.save_model()\n",
    "PruningExample(0)"
   ]
  },
  {
   "cell_type": "markdown",
   "metadata": {},
   "source": [
    "# For k@ 25%"
   ]
  },
  {
   "cell_type": "code",
   "execution_count": 68,
   "metadata": {},
   "outputs": [
    {
     "name": "stdout",
     "output_type": "stream",
     "text": [
      "\n",
      "Successfully created graph for FullyConnectedClassifier.\n",
      "Number of parameters (four bytes == 1 parameter): 2388711.\n",
      "\n",
      "INFO:tensorflow:Restoring parameters from saved_models/network_dense_pruned\\model.ckpt-24750\n",
      "Accuracy on test with dense model (pruned): 0.6768999993801116, loss on test: 0.987739944458008\n",
      "\n",
      "Successfully created graph for FullyConnectedClassifierSparse.\n",
      "Number of parameters (four bytes == 1 parameter): 65414.\n",
      "\n",
      "Accuracy on test with sparse model: 0.3721000003814698, loss on test: 1.6065773761272435\n"
     ]
    }
   ],
   "source": [
    "PruningExample(0.25)"
   ]
  },
  {
   "cell_type": "markdown",
   "metadata": {},
   "source": [
    "# For @50, 60, 70, 80, 90, 95, 97, 99%"
   ]
  },
  {
   "cell_type": "code",
   "execution_count": 56,
   "metadata": {},
   "outputs": [
    {
     "name": "stdout",
     "output_type": "stream",
     "text": [
      "\n",
      "Successfully created graph for FullyConnectedClassifier.\n",
      "Number of parameters (four bytes == 1 parameter): 2388711.\n",
      "\n",
      "INFO:tensorflow:Restoring parameters from saved_models/network_dense_pruned\\model.ckpt-24750\n",
      "Accuracy on test with dense model (pruned): 0.6772000026702883, loss on test: 0.987446812391281\n",
      "\n",
      "Successfully created graph for FullyConnectedClassifierSparse.\n",
      "Number of parameters (four bytes == 1 parameter): 25692.\n",
      "\n",
      "Accuracy on test with sparse model: 0.09239999989047648, loss on test: 2.4316023182868958\n"
     ]
    }
   ],
   "source": [
    "PruningExample(0.60)"
   ]
  },
  {
   "cell_type": "code",
   "execution_count": 69,
   "metadata": {},
   "outputs": [
    {
     "name": "stdout",
     "output_type": "stream",
     "text": [
      "\n",
      "Successfully created graph for FullyConnectedClassifier.\n",
      "Number of parameters (four bytes == 1 parameter): 2388711.\n",
      "\n",
      "INFO:tensorflow:Restoring parameters from saved_models/network_dense_pruned\\model.ckpt-24750\n",
      "Accuracy on test with dense model (pruned): 0.6767000001668932, loss on test: 0.9889129745960237\n",
      "\n",
      "Successfully created graph for FullyConnectedClassifierSparse.\n",
      "Number of parameters (four bytes == 1 parameter): 18296.\n",
      "\n",
      "Accuracy on test with sparse model: 0.11410000018775464, loss on test: 2.9294969868659986\n"
     ]
    }
   ],
   "source": [
    "PruningExample(0.70)"
   ]
  },
  {
   "cell_type": "code",
   "execution_count": 58,
   "metadata": {},
   "outputs": [
    {
     "name": "stdout",
     "output_type": "stream",
     "text": [
      "\n",
      "Successfully created graph for FullyConnectedClassifier.\n",
      "Number of parameters (four bytes == 1 parameter): 2388711.\n",
      "\n",
      "INFO:tensorflow:Restoring parameters from saved_models/network_dense_pruned\\model.ckpt-24750\n",
      "Accuracy on test with dense model (pruned): 0.6771999984979628, loss on test: 0.9872180175781251\n",
      "\n",
      "Successfully created graph for FullyConnectedClassifierSparse.\n",
      "Number of parameters (four bytes == 1 parameter): 9726.\n",
      "\n",
      "Accuracy on test with sparse model: 0.113999999910593, loss on test: 2.3382524895668033\n"
     ]
    }
   ],
   "source": [
    "PruningExample(0.80)"
   ]
  },
  {
   "cell_type": "code",
   "execution_count": 70,
   "metadata": {},
   "outputs": [
    {
     "name": "stdout",
     "output_type": "stream",
     "text": [
      "\n",
      "Successfully created graph for FullyConnectedClassifier.\n",
      "Number of parameters (four bytes == 1 parameter): 2388711.\n",
      "\n",
      "INFO:tensorflow:Restoring parameters from saved_models/network_dense_pruned\\model.ckpt-24750\n",
      "Accuracy on test with dense model (pruned): 0.6790000021457673, loss on test: 0.9857576483488083\n",
      "\n",
      "Successfully created graph for FullyConnectedClassifierSparse.\n",
      "Number of parameters (four bytes == 1 parameter): 8126.\n",
      "\n",
      "Accuracy on test with sparse model: 0.11409999951720236, loss on test: 2.568957347869873\n"
     ]
    }
   ],
   "source": [
    "PruningExample(0.90)"
   ]
  },
  {
   "cell_type": "code",
   "execution_count": 71,
   "metadata": {},
   "outputs": [
    {
     "name": "stdout",
     "output_type": "stream",
     "text": [
      "\n",
      "Successfully created graph for FullyConnectedClassifier.\n",
      "Number of parameters (four bytes == 1 parameter): 2388711.\n",
      "\n",
      "INFO:tensorflow:Restoring parameters from saved_models/network_dense_pruned\\model.ckpt-24750\n",
      "Accuracy on test with dense model (pruned): 0.6786000019311904, loss on test: 0.9839457023143765\n",
      "\n",
      "Successfully created graph for FullyConnectedClassifierSparse.\n",
      "Number of parameters (four bytes == 1 parameter): 7060.\n",
      "\n",
      "Accuracy on test with sparse model: 0.11399999979883428, loss on test: 2.563021259307861\n"
     ]
    }
   ],
   "source": [
    "PruningExample(0.95)"
   ]
  },
  {
   "cell_type": "code",
   "execution_count": 72,
   "metadata": {},
   "outputs": [
    {
     "name": "stdout",
     "output_type": "stream",
     "text": [
      "\n",
      "Successfully created graph for FullyConnectedClassifier.\n",
      "Number of parameters (four bytes == 1 parameter): 2388711.\n",
      "\n",
      "INFO:tensorflow:Restoring parameters from saved_models/network_dense_pruned\\model.ckpt-24750\n",
      "Accuracy on test with dense model (pruned): 0.677400000691414, loss on test: 0.9863543599843979\n",
      "\n",
      "Successfully created graph for FullyConnectedClassifierSparse.\n",
      "Number of parameters (four bytes == 1 parameter): 6726.\n",
      "\n",
      "Accuracy on test with sparse model: 0.10379999935626981, loss on test: 2.5189398050308225\n"
     ]
    }
   ],
   "source": [
    "PruningExample(0.97)"
   ]
  },
  {
   "cell_type": "code",
   "execution_count": 73,
   "metadata": {},
   "outputs": [
    {
     "name": "stdout",
     "output_type": "stream",
     "text": [
      "\n",
      "Successfully created graph for FullyConnectedClassifier.\n",
      "Number of parameters (four bytes == 1 parameter): 2388711.\n",
      "\n",
      "INFO:tensorflow:Restoring parameters from saved_models/network_dense_pruned\\model.ckpt-24750\n",
      "Accuracy on test with dense model (pruned): 0.6793000024557115, loss on test: 0.9850154411792755\n",
      "\n",
      "Successfully created graph for FullyConnectedClassifierSparse.\n",
      "Number of parameters (four bytes == 1 parameter): 6260.\n",
      "\n",
      "Accuracy on test with sparse model: 0.10289999986067415, loss on test: 2.50021512746811\n"
     ]
    }
   ],
   "source": [
    "PruningExample(0.99)"
   ]
  },
  {
   "cell_type": "code",
   "execution_count": 85,
   "metadata": {},
   "outputs": [
    {
     "name": "stdout",
     "output_type": "stream",
     "text": [
      "\n",
      "Successfully created graph for FullyConnectedClassifier.\n",
      "Number of parameters (four bytes == 1 parameter): 2388711.\n",
      "\n",
      "INFO:tensorflow:Restoring parameters from saved_models/network_dense_pruned\\model.ckpt-16500\n",
      "Accuracy on test with dense model (pruned): 0.11350000020116568, loss on test: 2.301169667243957\n",
      "\n",
      "Successfully created graph for FullyConnectedClassifierSparse.\n",
      "Number of parameters (four bytes == 1 parameter): 2730.\n",
      "\n",
      "Accuracy on test with sparse model: 0.1139999995566904, loss on test: 2.3009239006042477\n"
     ]
    }
   ],
   "source": [
    "PruningExample(0.50)"
   ]
  },
  {
   "cell_type": "code",
   "execution_count": null,
   "metadata": {},
   "outputs": [],
   "source": []
  }
 ],
 "metadata": {
  "jupytext": {
   "main_language": "python",
   "text_representation": {
    "extension": ".py",
    "format_name": "percent",
    "format_version": "1.2",
    "jupytext_version": "0.8.6"
   }
  },
  "kernelspec": {
   "display_name": "Python 3",
   "language": "python",
   "name": "python3"
  },
  "language_info": {
   "codemirror_mode": {
    "name": "ipython",
    "version": 3
   },
   "file_extension": ".py",
   "mimetype": "text/x-python",
   "name": "python",
   "nbconvert_exporter": "python",
   "pygments_lexer": "ipython3",
   "version": "3.6.5"
  }
 },
 "nbformat": 4,
 "nbformat_minor": 2
}
